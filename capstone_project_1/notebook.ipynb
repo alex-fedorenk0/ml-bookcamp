{
  "cells": [
    {
      "cell_type": "markdown",
      "metadata": {
        "id": "TZnAACRZGhKr"
      },
      "source": [
        "# Dataset downloading"
      ]
    },
    {
      "cell_type": "markdown",
      "metadata": {
        "id": "oHHD1_YiGhKt"
      },
      "source": [
        "To run the next cell you must have Kaggle CLI installed and your API key put in the right location. Alternatively you can just download the dataset manually from here (https://www.kaggle.com/datasets/deepcontractor/is-that-santa-image-classification)"
      ]
    },
    {
      "cell_type": "code",
      "source": [
        "!pip install kaggle"
      ],
      "metadata": {
        "colab": {
          "base_uri": "https://localhost:8080/"
        },
        "id": "1BX5LrLzHE6D",
        "outputId": "18064dcf-6b6b-46f4-a215-f264ed601888"
      },
      "execution_count": 1,
      "outputs": [
        {
          "output_type": "stream",
          "name": "stdout",
          "text": [
            "Looking in indexes: https://pypi.org/simple, https://us-python.pkg.dev/colab-wheels/public/simple/\n",
            "Requirement already satisfied: kaggle in /usr/local/lib/python3.8/dist-packages (1.5.12)\n",
            "Requirement already satisfied: urllib3 in /usr/local/lib/python3.8/dist-packages (from kaggle) (1.24.3)\n",
            "Requirement already satisfied: tqdm in /usr/local/lib/python3.8/dist-packages (from kaggle) (4.64.1)\n",
            "Requirement already satisfied: six>=1.10 in /usr/local/lib/python3.8/dist-packages (from kaggle) (1.15.0)\n",
            "Requirement already satisfied: certifi in /usr/local/lib/python3.8/dist-packages (from kaggle) (2022.12.7)\n",
            "Requirement already satisfied: requests in /usr/local/lib/python3.8/dist-packages (from kaggle) (2.23.0)\n",
            "Requirement already satisfied: python-slugify in /usr/local/lib/python3.8/dist-packages (from kaggle) (7.0.0)\n",
            "Requirement already satisfied: python-dateutil in /usr/local/lib/python3.8/dist-packages (from kaggle) (2.8.2)\n",
            "Requirement already satisfied: text-unidecode>=1.3 in /usr/local/lib/python3.8/dist-packages (from python-slugify->kaggle) (1.3)\n",
            "Requirement already satisfied: idna<3,>=2.5 in /usr/local/lib/python3.8/dist-packages (from requests->kaggle) (2.10)\n",
            "Requirement already satisfied: chardet<4,>=3.0.2 in /usr/local/lib/python3.8/dist-packages (from requests->kaggle) (3.0.4)\n"
          ]
        }
      ]
    },
    {
      "cell_type": "code",
      "source": [
        "from google.colab import files"
      ],
      "metadata": {
        "id": "ti5mfgWhHKri"
      },
      "execution_count": 2,
      "outputs": []
    },
    {
      "cell_type": "code",
      "source": [
        "# upload your Kaggle API key if you have it\n",
        "files.upload()"
      ],
      "metadata": {
        "colab": {
          "base_uri": "https://localhost:8080/",
          "height": 90
        },
        "id": "n2Rd2nl9HNwj",
        "outputId": "5b2598df-357f-4b20-9f10-a233958cb22c"
      },
      "execution_count": 3,
      "outputs": [
        {
          "output_type": "display_data",
          "data": {
            "text/plain": [
              "<IPython.core.display.HTML object>"
            ],
            "text/html": [
              "\n",
              "     <input type=\"file\" id=\"files-8f51bf57-2b5c-4837-a576-8a6d220e8ff6\" name=\"files[]\" multiple disabled\n",
              "        style=\"border:none\" />\n",
              "     <output id=\"result-8f51bf57-2b5c-4837-a576-8a6d220e8ff6\">\n",
              "      Upload widget is only available when the cell has been executed in the\n",
              "      current browser session. Please rerun this cell to enable.\n",
              "      </output>\n",
              "      <script>// Copyright 2017 Google LLC\n",
              "//\n",
              "// Licensed under the Apache License, Version 2.0 (the \"License\");\n",
              "// you may not use this file except in compliance with the License.\n",
              "// You may obtain a copy of the License at\n",
              "//\n",
              "//      http://www.apache.org/licenses/LICENSE-2.0\n",
              "//\n",
              "// Unless required by applicable law or agreed to in writing, software\n",
              "// distributed under the License is distributed on an \"AS IS\" BASIS,\n",
              "// WITHOUT WARRANTIES OR CONDITIONS OF ANY KIND, either express or implied.\n",
              "// See the License for the specific language governing permissions and\n",
              "// limitations under the License.\n",
              "\n",
              "/**\n",
              " * @fileoverview Helpers for google.colab Python module.\n",
              " */\n",
              "(function(scope) {\n",
              "function span(text, styleAttributes = {}) {\n",
              "  const element = document.createElement('span');\n",
              "  element.textContent = text;\n",
              "  for (const key of Object.keys(styleAttributes)) {\n",
              "    element.style[key] = styleAttributes[key];\n",
              "  }\n",
              "  return element;\n",
              "}\n",
              "\n",
              "// Max number of bytes which will be uploaded at a time.\n",
              "const MAX_PAYLOAD_SIZE = 100 * 1024;\n",
              "\n",
              "function _uploadFiles(inputId, outputId) {\n",
              "  const steps = uploadFilesStep(inputId, outputId);\n",
              "  const outputElement = document.getElementById(outputId);\n",
              "  // Cache steps on the outputElement to make it available for the next call\n",
              "  // to uploadFilesContinue from Python.\n",
              "  outputElement.steps = steps;\n",
              "\n",
              "  return _uploadFilesContinue(outputId);\n",
              "}\n",
              "\n",
              "// This is roughly an async generator (not supported in the browser yet),\n",
              "// where there are multiple asynchronous steps and the Python side is going\n",
              "// to poll for completion of each step.\n",
              "// This uses a Promise to block the python side on completion of each step,\n",
              "// then passes the result of the previous step as the input to the next step.\n",
              "function _uploadFilesContinue(outputId) {\n",
              "  const outputElement = document.getElementById(outputId);\n",
              "  const steps = outputElement.steps;\n",
              "\n",
              "  const next = steps.next(outputElement.lastPromiseValue);\n",
              "  return Promise.resolve(next.value.promise).then((value) => {\n",
              "    // Cache the last promise value to make it available to the next\n",
              "    // step of the generator.\n",
              "    outputElement.lastPromiseValue = value;\n",
              "    return next.value.response;\n",
              "  });\n",
              "}\n",
              "\n",
              "/**\n",
              " * Generator function which is called between each async step of the upload\n",
              " * process.\n",
              " * @param {string} inputId Element ID of the input file picker element.\n",
              " * @param {string} outputId Element ID of the output display.\n",
              " * @return {!Iterable<!Object>} Iterable of next steps.\n",
              " */\n",
              "function* uploadFilesStep(inputId, outputId) {\n",
              "  const inputElement = document.getElementById(inputId);\n",
              "  inputElement.disabled = false;\n",
              "\n",
              "  const outputElement = document.getElementById(outputId);\n",
              "  outputElement.innerHTML = '';\n",
              "\n",
              "  const pickedPromise = new Promise((resolve) => {\n",
              "    inputElement.addEventListener('change', (e) => {\n",
              "      resolve(e.target.files);\n",
              "    });\n",
              "  });\n",
              "\n",
              "  const cancel = document.createElement('button');\n",
              "  inputElement.parentElement.appendChild(cancel);\n",
              "  cancel.textContent = 'Cancel upload';\n",
              "  const cancelPromise = new Promise((resolve) => {\n",
              "    cancel.onclick = () => {\n",
              "      resolve(null);\n",
              "    };\n",
              "  });\n",
              "\n",
              "  // Wait for the user to pick the files.\n",
              "  const files = yield {\n",
              "    promise: Promise.race([pickedPromise, cancelPromise]),\n",
              "    response: {\n",
              "      action: 'starting',\n",
              "    }\n",
              "  };\n",
              "\n",
              "  cancel.remove();\n",
              "\n",
              "  // Disable the input element since further picks are not allowed.\n",
              "  inputElement.disabled = true;\n",
              "\n",
              "  if (!files) {\n",
              "    return {\n",
              "      response: {\n",
              "        action: 'complete',\n",
              "      }\n",
              "    };\n",
              "  }\n",
              "\n",
              "  for (const file of files) {\n",
              "    const li = document.createElement('li');\n",
              "    li.append(span(file.name, {fontWeight: 'bold'}));\n",
              "    li.append(span(\n",
              "        `(${file.type || 'n/a'}) - ${file.size} bytes, ` +\n",
              "        `last modified: ${\n",
              "            file.lastModifiedDate ? file.lastModifiedDate.toLocaleDateString() :\n",
              "                                    'n/a'} - `));\n",
              "    const percent = span('0% done');\n",
              "    li.appendChild(percent);\n",
              "\n",
              "    outputElement.appendChild(li);\n",
              "\n",
              "    const fileDataPromise = new Promise((resolve) => {\n",
              "      const reader = new FileReader();\n",
              "      reader.onload = (e) => {\n",
              "        resolve(e.target.result);\n",
              "      };\n",
              "      reader.readAsArrayBuffer(file);\n",
              "    });\n",
              "    // Wait for the data to be ready.\n",
              "    let fileData = yield {\n",
              "      promise: fileDataPromise,\n",
              "      response: {\n",
              "        action: 'continue',\n",
              "      }\n",
              "    };\n",
              "\n",
              "    // Use a chunked sending to avoid message size limits. See b/62115660.\n",
              "    let position = 0;\n",
              "    do {\n",
              "      const length = Math.min(fileData.byteLength - position, MAX_PAYLOAD_SIZE);\n",
              "      const chunk = new Uint8Array(fileData, position, length);\n",
              "      position += length;\n",
              "\n",
              "      const base64 = btoa(String.fromCharCode.apply(null, chunk));\n",
              "      yield {\n",
              "        response: {\n",
              "          action: 'append',\n",
              "          file: file.name,\n",
              "          data: base64,\n",
              "        },\n",
              "      };\n",
              "\n",
              "      let percentDone = fileData.byteLength === 0 ?\n",
              "          100 :\n",
              "          Math.round((position / fileData.byteLength) * 100);\n",
              "      percent.textContent = `${percentDone}% done`;\n",
              "\n",
              "    } while (position < fileData.byteLength);\n",
              "  }\n",
              "\n",
              "  // All done.\n",
              "  yield {\n",
              "    response: {\n",
              "      action: 'complete',\n",
              "    }\n",
              "  };\n",
              "}\n",
              "\n",
              "scope.google = scope.google || {};\n",
              "scope.google.colab = scope.google.colab || {};\n",
              "scope.google.colab._files = {\n",
              "  _uploadFiles,\n",
              "  _uploadFilesContinue,\n",
              "};\n",
              "})(self);\n",
              "</script> "
            ]
          },
          "metadata": {}
        },
        {
          "output_type": "stream",
          "name": "stdout",
          "text": [
            "Saving kaggle.json to kaggle.json\n"
          ]
        },
        {
          "output_type": "execute_result",
          "data": {
            "text/plain": [
              "{'kaggle.json': b'{\"username\":\"alexfedorenko\",\"key\":\"62c3ef357739462615eba070a097bdfe\"}'}"
            ]
          },
          "metadata": {},
          "execution_count": 3
        }
      ]
    },
    {
      "cell_type": "code",
      "source": [
        "! mkdir ~/.kaggle\n",
        "! cp kaggle.json ~/.kaggle/\n",
        "! chmod 600 ~/.kaggle/kaggle.json"
      ],
      "metadata": {
        "id": "O4WUBJYzHU4J"
      },
      "execution_count": 4,
      "outputs": []
    },
    {
      "cell_type": "code",
      "execution_count": 5,
      "metadata": {
        "colab": {
          "base_uri": "https://localhost:8080/"
        },
        "id": "PgWP5-1RGhKu",
        "outputId": "d8ddc989-09f4-4838-8eb0-71a1832fea00"
      },
      "outputs": [
        {
          "output_type": "stream",
          "name": "stdout",
          "text": [
            "Downloading is-that-santa-image-classification.zip to /content\n",
            "100% 203M/203M [00:11<00:00, 20.5MB/s]\n",
            "100% 203M/203M [00:11<00:00, 18.0MB/s]\n"
          ]
        }
      ],
      "source": [
        "!kaggle datasets download -d deepcontractor/is-that-santa-image-classification\n",
        "!unzip -q is-that-santa-image-classification.zip \n",
        "!rm is-that-santa-image-classification.zip "
      ]
    },
    {
      "cell_type": "code",
      "source": [
        "!pip install keras_image_helper"
      ],
      "metadata": {
        "colab": {
          "base_uri": "https://localhost:8080/"
        },
        "id": "vxmj5Fn2IlCz",
        "outputId": "3d68daef-b7df-4326-d64c-5d7d76c92ca4"
      },
      "execution_count": 6,
      "outputs": [
        {
          "output_type": "stream",
          "name": "stdout",
          "text": [
            "Looking in indexes: https://pypi.org/simple, https://us-python.pkg.dev/colab-wheels/public/simple/\n",
            "Collecting keras_image_helper\n",
            "  Downloading keras_image_helper-0.0.1-py3-none-any.whl (4.6 kB)\n",
            "Requirement already satisfied: numpy in /usr/local/lib/python3.8/dist-packages (from keras_image_helper) (1.21.6)\n",
            "Requirement already satisfied: pillow in /usr/local/lib/python3.8/dist-packages (from keras_image_helper) (7.1.2)\n",
            "Installing collected packages: keras-image-helper\n",
            "Successfully installed keras-image-helper-0.0.1\n"
          ]
        }
      ]
    },
    {
      "cell_type": "code",
      "execution_count": 7,
      "metadata": {
        "id": "YnOzF1SZGhKw"
      },
      "outputs": [],
      "source": [
        "import numpy as np\n",
        "import matplotlib.pyplot as plt\n",
        "import os, shutil\n",
        "import random\n",
        "\n",
        "import tensorflow as tf\n",
        "from tensorflow import keras\n",
        "from tensorflow.keras.preprocessing.image import load_img\n",
        "from tensorflow.keras.applications.xception import Xception, preprocess_input, decode_predictions\n",
        "from tensorflow.keras.preprocessing.image import ImageDataGenerator\n",
        "from keras_image_helper import create_preprocessor"
      ]
    },
    {
      "cell_type": "markdown",
      "metadata": {
        "id": "zRZcUqTdGhKw"
      },
      "source": [
        "Let's count files in our dataset"
      ]
    },
    {
      "cell_type": "code",
      "execution_count": 8,
      "metadata": {
        "colab": {
          "base_uri": "https://localhost:8080/"
        },
        "id": "CSgma9sdGhKx",
        "outputId": "45795c8f-5b45-4e43-931b-1a9077a97a47"
      },
      "outputs": [
        {
          "output_type": "stream",
          "name": "stdout",
          "text": [
            "./is that santa/train/not-a-santa: 307 files\n",
            "./is that santa/train/santa: 307 files\n",
            "./is that santa/test/not-a-santa: 308 files\n",
            "./is that santa/test/santa: 308 files\n"
          ]
        }
      ],
      "source": [
        "for root, dirs, files in os.walk('./is that santa/'):\n",
        "    if len(files) > 0:\n",
        "        print(f'{root}: {len(files)} files')"
      ]
    },
    {
      "cell_type": "markdown",
      "metadata": {
        "id": "XXdns11IGhKx"
      },
      "source": [
        "We have 616 files in testing set and 614 files in train set. The former must be split into validation and testing set"
      ]
    },
    {
      "cell_type": "code",
      "execution_count": 9,
      "metadata": {
        "id": "p2-1LK4DGhKy"
      },
      "outputs": [],
      "source": [
        "!mkdir './is that santa/val'\n",
        "!mkdir './is that santa/val/santa'\n",
        "!mkdir './is that santa/val/not-a-santa'"
      ]
    },
    {
      "cell_type": "code",
      "execution_count": 10,
      "metadata": {
        "id": "dAP_tR5eGhKy"
      },
      "outputs": [],
      "source": [
        "val_santa = random.sample(os.listdir('./is that santa/test/santa'), 154)\n",
        "val_not_santa = random.sample(os.listdir('./is that santa/test/not-a-santa'), 154)\n",
        "\n",
        "test_path = os.path.join(os.getcwd(), 'is that santa/test/')\n",
        "val_path = os.path.join(os.getcwd(), 'is that santa/val/')\n",
        "\n",
        "for filename in val_santa:\n",
        "    shutil.move(\n",
        "        os.path.join(test_path, 'santa', filename),\n",
        "        os.path.join(val_path, 'santa', filename)\n",
        "        )\n",
        "for filename in val_not_santa:\n",
        "    shutil.move(\n",
        "        os.path.join(test_path, 'not-a-santa', filename),\n",
        "        os.path.join(val_path, 'not-a-santa', filename)\n",
        "        )"
      ]
    },
    {
      "cell_type": "markdown",
      "metadata": {
        "id": "u3v3dlxhGhKz"
      },
      "source": [
        "Now we will check if files were split correctly"
      ]
    },
    {
      "cell_type": "code",
      "execution_count": 11,
      "metadata": {
        "colab": {
          "base_uri": "https://localhost:8080/"
        },
        "id": "blidtY9AGhKz",
        "outputId": "cefce911-781f-4fb5-9233-13f1750cbd0d"
      },
      "outputs": [
        {
          "output_type": "stream",
          "name": "stdout",
          "text": [
            "./is that santa/train/not-a-santa: 307 files\n",
            "./is that santa/train/santa: 307 files\n",
            "./is that santa/test/not-a-santa: 154 files\n",
            "./is that santa/test/santa: 154 files\n",
            "./is that santa/val/not-a-santa: 154 files\n",
            "./is that santa/val/santa: 154 files\n"
          ]
        }
      ],
      "source": [
        "for root, dirs, files in os.walk('./is that santa/'):\n",
        "    if len(files) > 0:\n",
        "        print(f'{root}: {len(files)} files')"
      ]
    },
    {
      "cell_type": "markdown",
      "metadata": {
        "id": "7tqyzFLFGhKz"
      },
      "source": [
        "# Image sets generation and preprocessing"
      ]
    },
    {
      "cell_type": "code",
      "execution_count": 12,
      "metadata": {
        "colab": {
          "base_uri": "https://localhost:8080/"
        },
        "id": "jL7eGRn7GhKz",
        "outputId": "b724fcf5-09e8-4857-d8b7-0a5fc90acb80"
      },
      "outputs": [
        {
          "output_type": "stream",
          "name": "stdout",
          "text": [
            "Found 614 images belonging to 2 classes.\n",
            "Found 308 images belonging to 2 classes.\n",
            "Found 308 images belonging to 2 classes.\n"
          ]
        }
      ],
      "source": [
        "train_gen = ImageDataGenerator(preprocessing_function=preprocess_input)\n",
        "\n",
        "train_ds = train_gen.flow_from_directory(\n",
        "    './is that santa/train',\n",
        "    target_size=(150, 150),\n",
        "    batch_size=32,\n",
        "    class_mode='binary'\n",
        ")\n",
        "\n",
        "val_gen = ImageDataGenerator(preprocessing_function=preprocess_input)\n",
        "\n",
        "val_ds = val_gen.flow_from_directory(\n",
        "    './is that santa/val',\n",
        "    target_size=(150, 150),\n",
        "    batch_size=32,\n",
        "    class_mode='binary'\n",
        ")\n",
        "\n",
        "test_gen = ImageDataGenerator(preprocessing_function=preprocess_input)\n",
        "\n",
        "test_ds = test_gen.flow_from_directory(\n",
        "    './is that santa/test',\n",
        "    target_size=(150, 150),\n",
        "    batch_size=32,\n",
        "    class_mode='binary'\n",
        ")"
      ]
    },
    {
      "cell_type": "code",
      "execution_count": 13,
      "metadata": {
        "colab": {
          "base_uri": "https://localhost:8080/"
        },
        "id": "Wofqyn6JGhK0",
        "outputId": "2cb6e7e3-ed13-48ec-b984-4839c88a6d04"
      },
      "outputs": [
        {
          "output_type": "execute_result",
          "data": {
            "text/plain": [
              "{'not-a-santa': 0, 'santa': 1}"
            ]
          },
          "metadata": {},
          "execution_count": 13
        }
      ],
      "source": [
        "train_ds.class_indices"
      ]
    },
    {
      "cell_type": "markdown",
      "metadata": {
        "id": "n8xjkXH9GhK0"
      },
      "source": [
        "# Basic model training"
      ]
    },
    {
      "cell_type": "markdown",
      "metadata": {
        "id": "Zk4UOtYlGhK0"
      },
      "source": [
        "We will use a pre-trained Xception model"
      ]
    },
    {
      "cell_type": "code",
      "execution_count": 14,
      "metadata": {
        "id": "FQPN0MBSGhK1"
      },
      "outputs": [],
      "source": [
        "def make_model(learning_rate=0.01):\n",
        "    base_model = Xception(\n",
        "    weights='imagenet',\n",
        "    include_top=False,\n",
        "    input_shape=(150, 150, 3)\n",
        "    )\n",
        "    base_model.trainable = False\n",
        "\n",
        "    inputs = keras.Input(shape=(150, 150, 3))\n",
        "    base = base_model(inputs, training=False)\n",
        "    pooling = keras.layers.GlobalAveragePooling2D()\n",
        "    vectors = pooling(base)\n",
        "    outputs = keras.layers.Dense(1, activation='sigmoid')(vectors)\n",
        "    model = keras.Model(inputs, outputs)\n",
        "\n",
        "    optimizer = keras.optimizers.Adam(learning_rate=learning_rate)\n",
        "    loss = keras.losses.BinaryCrossentropy()\n",
        "\n",
        "    model.compile(optimizer=optimizer, loss=loss, metrics=['accuracy'])\n",
        "\n",
        "    return model"
      ]
    },
    {
      "cell_type": "code",
      "execution_count": 15,
      "metadata": {
        "colab": {
          "base_uri": "https://localhost:8080/"
        },
        "id": "CQTTFfDlGhK1",
        "outputId": "789666a5-2c1b-49af-c809-6a4d61d74e70"
      },
      "outputs": [
        {
          "output_type": "stream",
          "name": "stdout",
          "text": [
            "Downloading data from https://storage.googleapis.com/tensorflow/keras-applications/xception/xception_weights_tf_dim_ordering_tf_kernels_notop.h5\n",
            "83683744/83683744 [==============================] - 5s 0us/step\n",
            "Epoch 1/10\n",
            "20/20 [==============================] - 23s 678ms/step - loss: 2.5218 - accuracy: 0.8111 - val_loss: 1.5175 - val_accuracy: 0.9253\n",
            "Epoch 2/10\n",
            "20/20 [==============================] - 12s 593ms/step - loss: 0.9439 - accuracy: 0.9316 - val_loss: 0.7096 - val_accuracy: 0.9253\n",
            "Epoch 3/10\n",
            "20/20 [==============================] - 13s 652ms/step - loss: 0.8502 - accuracy: 0.9349 - val_loss: 2.0292 - val_accuracy: 0.8864\n",
            "Epoch 4/10\n",
            "20/20 [==============================] - 12s 593ms/step - loss: 0.3831 - accuracy: 0.9593 - val_loss: 0.7625 - val_accuracy: 0.9383\n",
            "Epoch 5/10\n",
            "20/20 [==============================] - 12s 572ms/step - loss: 0.0256 - accuracy: 0.9919 - val_loss: 0.8751 - val_accuracy: 0.9351\n",
            "Epoch 6/10\n",
            "20/20 [==============================] - 12s 606ms/step - loss: 0.0068 - accuracy: 0.9984 - val_loss: 0.6462 - val_accuracy: 0.9253\n",
            "Epoch 7/10\n",
            "20/20 [==============================] - 12s 611ms/step - loss: 9.0241e-04 - accuracy: 1.0000 - val_loss: 0.7607 - val_accuracy: 0.9351\n",
            "Epoch 8/10\n",
            "20/20 [==============================] - 12s 595ms/step - loss: 0.0024 - accuracy: 1.0000 - val_loss: 0.6937 - val_accuracy: 0.9188\n",
            "Epoch 9/10\n",
            "20/20 [==============================] - 12s 614ms/step - loss: 0.0011 - accuracy: 1.0000 - val_loss: 0.7011 - val_accuracy: 0.9318\n",
            "Epoch 10/10\n",
            "20/20 [==============================] - 13s 661ms/step - loss: 6.6167e-06 - accuracy: 1.0000 - val_loss: 0.7348 - val_accuracy: 0.9383\n"
          ]
        }
      ],
      "source": [
        "model = make_model(learning_rate=0.1)\n",
        "history = model.fit(train_ds, epochs=10, validation_data=val_ds)"
      ]
    },
    {
      "cell_type": "code",
      "execution_count": 16,
      "metadata": {
        "colab": {
          "base_uri": "https://localhost:8080/",
          "height": 265
        },
        "id": "AV5m79aBGhK2",
        "outputId": "85faa331-7716-4057-8564-e57dee4ae33c"
      },
      "outputs": [
        {
          "output_type": "display_data",
          "data": {
            "text/plain": [
              "<Figure size 432x288 with 1 Axes>"
            ],
            "image/png": "[encoded data removed]"
          },
          "metadata": {
            "needs_background": "light"
          }
        }
      ],
      "source": [
        "plt.plot(history.history['accuracy'], label='train')\n",
        "plt.plot(history.history['val_accuracy'], label='val')\n",
        "plt.xticks(np.arange(10))\n",
        "plt.legend();"
      ]
    },
    {
      "cell_type": "markdown",
      "metadata": {
        "id": "jF0C1JxhGhK2"
      },
      "source": [
        "There is clear overfitting as train accuracy reached 0.93 on on the 3th epoch, so let's try a lower learning rate "
      ]
    },
    {
      "cell_type": "code",
      "execution_count": 17,
      "metadata": {
        "colab": {
          "base_uri": "https://localhost:8080/"
        },
        "id": "0f-wC54QGhK2",
        "outputId": "313330b7-88a1-4bd7-a501-66b2b798a077"
      },
      "outputs": [
        {
          "output_type": "stream",
          "name": "stdout",
          "text": [
            "Epoch 1/10\n",
            "20/20 [==============================] - 16s 678ms/step - loss: 0.4506 - accuracy: 0.8192 - val_loss: 0.2833 - val_accuracy: 0.8929\n",
            "Epoch 2/10\n",
            "20/20 [==============================] - 12s 592ms/step - loss: 0.2589 - accuracy: 0.9104 - val_loss: 0.2214 - val_accuracy: 0.9221\n",
            "Epoch 3/10\n",
            "20/20 [==============================] - 12s 575ms/step - loss: 0.2078 - accuracy: 0.9251 - val_loss: 0.1958 - val_accuracy: 0.9318\n",
            "Epoch 4/10\n",
            "20/20 [==============================] - 12s 602ms/step - loss: 0.1746 - accuracy: 0.9495 - val_loss: 0.1734 - val_accuracy: 0.9513\n",
            "Epoch 5/10\n",
            "20/20 [==============================] - 12s 595ms/step - loss: 0.1487 - accuracy: 0.9560 - val_loss: 0.1617 - val_accuracy: 0.9481\n",
            "Epoch 6/10\n",
            "20/20 [==============================] - 12s 591ms/step - loss: 0.1327 - accuracy: 0.9691 - val_loss: 0.1534 - val_accuracy: 0.9545\n",
            "Epoch 7/10\n",
            "20/20 [==============================] - 12s 601ms/step - loss: 0.1170 - accuracy: 0.9739 - val_loss: 0.1503 - val_accuracy: 0.9545\n",
            "Epoch 8/10\n",
            "20/20 [==============================] - 12s 605ms/step - loss: 0.1059 - accuracy: 0.9739 - val_loss: 0.1431 - val_accuracy: 0.9578\n",
            "Epoch 9/10\n",
            "20/20 [==============================] - 12s 564ms/step - loss: 0.0984 - accuracy: 0.9756 - val_loss: 0.1385 - val_accuracy: 0.9578\n",
            "Epoch 10/10\n",
            "20/20 [==============================] - 12s 596ms/step - loss: 0.0900 - accuracy: 0.9788 - val_loss: 0.1383 - val_accuracy: 0.9545\n"
          ]
        }
      ],
      "source": [
        "model = make_model(learning_rate=0.001)\n",
        "history = model.fit(train_ds, epochs=10, validation_data=val_ds)"
      ]
    },
    {
      "cell_type": "code",
      "execution_count": 18,
      "metadata": {
        "colab": {
          "base_uri": "https://localhost:8080/",
          "height": 265
        },
        "id": "_xwppsnKGhK3",
        "outputId": "52a2e286-d8a7-407f-d89e-e0589e2b7cb4"
      },
      "outputs": [
        {
          "output_type": "display_data",
          "data": {
            "text/plain": [
              "<Figure size 432x288 with 1 Axes>"
            ],
            "image/png": "[encoded data removed]"
          },
          "metadata": {
            "needs_background": "light"
          }
        }
      ],
      "source": [
        "plt.plot(history.history['accuracy'], label='train')\n",
        "plt.plot(history.history['val_accuracy'], label='val')\n",
        "plt.xticks(np.arange(10))\n",
        "plt.legend();"
      ]
    },
    {
      "cell_type": "markdown",
      "metadata": {
        "id": "CgB1HT74GhK3"
      },
      "source": [
        "A lot better result and also higher validation accuracy. Let's try to add one inner layer and see if it improves the score"
      ]
    },
    {
      "cell_type": "code",
      "source": [
        "def make_model(learning_rate=0.001, size_inner=50):\n",
        "    base_model = Xception(\n",
        "    weights='imagenet',\n",
        "    include_top=False,\n",
        "    input_shape=(150, 150, 3)\n",
        "    )\n",
        "    base_model.trainable = False\n",
        "\n",
        "    inputs = keras.Input(shape=(150, 150, 3))\n",
        "    base = base_model(inputs, training=False)\n",
        "    pooling = keras.layers.GlobalAveragePooling2D()\n",
        "    vectors = pooling(base)\n",
        "    inner = keras.layers.Dense(size_inner, activation='relu')(vectors)\n",
        "    outputs = keras.layers.Dense(1, activation='sigmoid')(inner)\n",
        "    model = keras.Model(inputs, outputs)\n",
        "\n",
        "    optimizer = keras.optimizers.Adam(learning_rate=learning_rate)\n",
        "    loss = keras.losses.BinaryCrossentropy()\n",
        "\n",
        "    model.compile(optimizer=optimizer, loss=loss, metrics=['accuracy'])\n",
        "\n",
        "    return model"
      ],
      "metadata": {
        "id": "qxOw0YJfMA5z"
      },
      "execution_count": 54,
      "outputs": []
    },
    {
      "cell_type": "code",
      "source": [
        "model = make_model(learning_rate=0.001, size_inner=50)\n",
        "history = model.fit(train_ds, epochs=10, validation_data=val_ds)"
      ],
      "metadata": {
        "colab": {
          "base_uri": "https://localhost:8080/"
        },
        "id": "B6db4ZEdMfCb",
        "outputId": "8ee6353f-5ef3-4a14-b935-810d40a80bf2"
      },
      "execution_count": 55,
      "outputs": [
        {
          "output_type": "stream",
          "name": "stdout",
          "text": [
            "Epoch 1/10\n",
            "20/20 [==============================] - 15s 612ms/step - loss: 0.3671 - accuracy: 0.8371 - val_loss: 0.2254 - val_accuracy: 0.9123\n",
            "Epoch 2/10\n",
            "20/20 [==============================] - 12s 577ms/step - loss: 0.1589 - accuracy: 0.9332 - val_loss: 0.1335 - val_accuracy: 0.9545\n",
            "Epoch 3/10\n",
            "20/20 [==============================] - 12s 613ms/step - loss: 0.0815 - accuracy: 0.9788 - val_loss: 0.1280 - val_accuracy: 0.9545\n",
            "Epoch 4/10\n",
            "20/20 [==============================] - 12s 574ms/step - loss: 0.0542 - accuracy: 0.9902 - val_loss: 0.1206 - val_accuracy: 0.9610\n",
            "Epoch 5/10\n",
            "20/20 [==============================] - 13s 651ms/step - loss: 0.0322 - accuracy: 0.9984 - val_loss: 0.1203 - val_accuracy: 0.9610\n",
            "Epoch 6/10\n",
            "20/20 [==============================] - 13s 617ms/step - loss: 0.0215 - accuracy: 0.9984 - val_loss: 0.1137 - val_accuracy: 0.9610\n",
            "Epoch 7/10\n",
            "20/20 [==============================] - 12s 615ms/step - loss: 0.0156 - accuracy: 1.0000 - val_loss: 0.1140 - val_accuracy: 0.9545\n",
            "Epoch 8/10\n",
            "20/20 [==============================] - 12s 601ms/step - loss: 0.0123 - accuracy: 1.0000 - val_loss: 0.1147 - val_accuracy: 0.9578\n",
            "Epoch 9/10\n",
            "20/20 [==============================] - 12s 597ms/step - loss: 0.0089 - accuracy: 1.0000 - val_loss: 0.1166 - val_accuracy: 0.9578\n",
            "Epoch 10/10\n",
            "20/20 [==============================] - 12s 607ms/step - loss: 0.0069 - accuracy: 1.0000 - val_loss: 0.1211 - val_accuracy: 0.9578\n"
          ]
        }
      ]
    },
    {
      "cell_type": "code",
      "source": [
        "plt.plot(history.history['accuracy'], label='train')\n",
        "plt.plot(history.history['val_accuracy'], label='val')\n",
        "plt.xticks(np.arange(10))\n",
        "plt.legend();"
      ],
      "metadata": {
        "colab": {
          "base_uri": "https://localhost:8080/",
          "height": 265
        },
        "id": "iV1Lp5-LMpFL",
        "outputId": "4201269f-0cd4-49ff-8742-03c1fd5e160c"
      },
      "execution_count": 56,
      "outputs": [
        {
          "output_type": "display_data",
          "data": {
            "text/plain": [
              "<Figure size 432x288 with 1 Axes>"
            ],
            "image/png": "[encoded data removed]"
          },
          "metadata": {
            "needs_background": "light"
          }
        }
      ]
    },
    {
      "cell_type": "markdown",
      "source": [
        "The model becomes too complex and quickly overfits. Let's add a drop layer"
      ],
      "metadata": {
        "id": "Ic2x-YaMchKn"
      }
    },
    {
      "cell_type": "code",
      "source": [
        "def make_model(learning_rate=0.001, size_inner=50, drop_rate=0.5):\n",
        "    base_model = Xception(\n",
        "    weights='imagenet',\n",
        "    include_top=False,\n",
        "    input_shape=(150, 150, 3)\n",
        "    )\n",
        "    base_model.trainable = False\n",
        "\n",
        "    inputs = keras.Input(shape=(150, 150, 3))\n",
        "    base = base_model(inputs, training=False)\n",
        "    pooling = keras.layers.GlobalAveragePooling2D()\n",
        "    vectors = pooling(base)\n",
        "    inner = keras.layers.Dense(size_inner, activation='relu')(vectors)\n",
        "    drop = keras.layers.Dropout(drop_rate)(inner)\n",
        "    outputs = keras.layers.Dense(1, activation='sigmoid')(drop)\n",
        "    model = keras.Model(inputs, outputs)\n",
        "\n",
        "    optimizer = keras.optimizers.Adam(learning_rate=learning_rate)\n",
        "    loss = keras.losses.BinaryCrossentropy()\n",
        "\n",
        "    model.compile(optimizer=optimizer, loss=loss, metrics=['accuracy'])\n",
        "\n",
        "    return model"
      ],
      "metadata": {
        "id": "0wVkAh0NRntg"
      },
      "execution_count": 57,
      "outputs": []
    },
    {
      "cell_type": "code",
      "source": [
        "model = make_model(learning_rate=0.001, size_inner=50, drop_rate=0.7)\n",
        "history = model.fit(train_ds, epochs=20, validation_data=val_ds)"
      ],
      "metadata": {
        "colab": {
          "base_uri": "https://localhost:8080/"
        },
        "id": "7cdLQYhUR6Ks",
        "outputId": "b3fb3dc4-1572-47e2-aa0b-2c93f21b285e"
      },
      "execution_count": 61,
      "outputs": [
        {
          "output_type": "stream",
          "name": "stdout",
          "text": [
            "Epoch 1/20\n",
            "20/20 [==============================] - 16s 689ms/step - loss: 0.5286 - accuracy: 0.7638 - val_loss: 0.2507 - val_accuracy: 0.9188\n",
            "Epoch 2/20\n",
            "20/20 [==============================] - 12s 594ms/step - loss: 0.2930 - accuracy: 0.8827 - val_loss: 0.1945 - val_accuracy: 0.9253\n",
            "Epoch 3/20\n",
            "20/20 [==============================] - 12s 604ms/step - loss: 0.2035 - accuracy: 0.9202 - val_loss: 0.1626 - val_accuracy: 0.9383\n",
            "Epoch 4/20\n",
            "20/20 [==============================] - 12s 605ms/step - loss: 0.1905 - accuracy: 0.9283 - val_loss: 0.1415 - val_accuracy: 0.9448\n",
            "Epoch 5/20\n",
            "20/20 [==============================] - 12s 598ms/step - loss: 0.1327 - accuracy: 0.9609 - val_loss: 0.1616 - val_accuracy: 0.9351\n",
            "Epoch 6/20\n",
            "20/20 [==============================] - 12s 606ms/step - loss: 0.1422 - accuracy: 0.9479 - val_loss: 0.1362 - val_accuracy: 0.9351\n",
            "Epoch 7/20\n",
            "20/20 [==============================] - 12s 594ms/step - loss: 0.1139 - accuracy: 0.9560 - val_loss: 0.1193 - val_accuracy: 0.9578\n",
            "Epoch 8/20\n",
            "20/20 [==============================] - 13s 641ms/step - loss: 0.1115 - accuracy: 0.9642 - val_loss: 0.1176 - val_accuracy: 0.9545\n",
            "Epoch 9/20\n",
            "20/20 [==============================] - 12s 610ms/step - loss: 0.0984 - accuracy: 0.9642 - val_loss: 0.1422 - val_accuracy: 0.9416\n",
            "Epoch 10/20\n",
            "20/20 [==============================] - 12s 588ms/step - loss: 0.0845 - accuracy: 0.9707 - val_loss: 0.1111 - val_accuracy: 0.9675\n",
            "Epoch 11/20\n",
            "20/20 [==============================] - 12s 602ms/step - loss: 0.0730 - accuracy: 0.9691 - val_loss: 0.1251 - val_accuracy: 0.9578\n",
            "Epoch 12/20\n",
            "20/20 [==============================] - 12s 594ms/step - loss: 0.0705 - accuracy: 0.9772 - val_loss: 0.1106 - val_accuracy: 0.9675\n",
            "Epoch 13/20\n",
            "20/20 [==============================] - 12s 588ms/step - loss: 0.0512 - accuracy: 0.9821 - val_loss: 0.1211 - val_accuracy: 0.9578\n",
            "Epoch 14/20\n",
            "20/20 [==============================] - 12s 609ms/step - loss: 0.0651 - accuracy: 0.9756 - val_loss: 0.1206 - val_accuracy: 0.9675\n",
            "Epoch 15/20\n",
            "20/20 [==============================] - 12s 607ms/step - loss: 0.0564 - accuracy: 0.9805 - val_loss: 0.1134 - val_accuracy: 0.9675\n",
            "Epoch 16/20\n",
            "20/20 [==============================] - 12s 594ms/step - loss: 0.0440 - accuracy: 0.9853 - val_loss: 0.1187 - val_accuracy: 0.9675\n",
            "Epoch 17/20\n",
            "20/20 [==============================] - 12s 586ms/step - loss: 0.0376 - accuracy: 0.9886 - val_loss: 0.1166 - val_accuracy: 0.9675\n",
            "Epoch 18/20\n",
            "20/20 [==============================] - 13s 638ms/step - loss: 0.0427 - accuracy: 0.9870 - val_loss: 0.1304 - val_accuracy: 0.9643\n",
            "Epoch 19/20\n",
            "20/20 [==============================] - 12s 598ms/step - loss: 0.0368 - accuracy: 0.9870 - val_loss: 0.1221 - val_accuracy: 0.9708\n",
            "Epoch 20/20\n",
            "20/20 [==============================] - 12s 586ms/step - loss: 0.0352 - accuracy: 0.9902 - val_loss: 0.1231 - val_accuracy: 0.9675\n"
          ]
        }
      ]
    },
    {
      "cell_type": "code",
      "source": [
        "plt.plot(history.history['accuracy'], label='train')\n",
        "plt.plot(history.history['val_accuracy'], label='val')\n",
        "plt.xticks(np.arange(10))\n",
        "plt.legend();"
      ],
      "metadata": {
        "colab": {
          "base_uri": "https://localhost:8080/",
          "height": 268
        },
        "id": "a7X6ia_XR-2h",
        "outputId": "b414ddd5-819c-47ac-f25a-6be376d947c0"
      },
      "execution_count": 59,
      "outputs": [
        {
          "output_type": "display_data",
          "data": {
            "text/plain": [
              "<Figure size 432x288 with 1 Axes>"
            ],
            "image/png": "[encoded data removed]"
          },
          "metadata": {
            "needs_background": "light"
          }
        }
      ]
    },
    {
      "cell_type": "markdown",
      "metadata": {
        "id": "5aUHg9OJGhK3"
      },
      "source": [
        "# Model performance on the test set"
      ]
    },
    {
      "cell_type": "code",
      "execution_count": 62,
      "metadata": {
        "colab": {
          "base_uri": "https://localhost:8080/"
        },
        "id": "Hq26OYt8GhK3",
        "outputId": "7f33d083-fcc0-4b1c-8479-fdfb953bb06f"
      },
      "outputs": [
        {
          "output_type": "stream",
          "name": "stdout",
          "text": [
            "10/10 [==============================] - 3s 244ms/step - loss: 0.0943 - accuracy: 0.9675\n"
          ]
        },
        {
          "output_type": "execute_result",
          "data": {
            "text/plain": [
              "[0.09433410316705704, 0.9675324559211731]"
            ]
          },
          "metadata": {},
          "execution_count": 62
        }
      ],
      "source": [
        "model.evaluate(test_ds)"
      ]
    },
    {
      "cell_type": "markdown",
      "metadata": {
        "id": "Vctm3BjRGhK4"
      },
      "source": [
        "We have 96% accuracy on test dataset. Let's check how the model works on an external image"
      ]
    },
    {
      "cell_type": "code",
      "execution_count": 31,
      "metadata": {
        "id": "gYbFkP4OGhK4"
      },
      "outputs": [],
      "source": [
        "preprocessor = create_preprocessor('xception', (150, 150))"
      ]
    },
    {
      "cell_type": "code",
      "execution_count": 32,
      "metadata": {
        "colab": {
          "base_uri": "https://localhost:8080/"
        },
        "id": "kDJspOxZGhK4",
        "outputId": "59558743-f7c2-4dd5-a67b-737c5234bb62"
      },
      "outputs": [
        {
          "output_type": "stream",
          "name": "stdout",
          "text": [
            "--2022-12-21 10:49:48--  https://cdn.hswstatic.com/gif/santa-claus-orig.jpg\n",
            "Resolving cdn.hswstatic.com (cdn.hswstatic.com)... 18.155.68.112, 18.155.68.45, 18.155.68.44, ...\n",
            "Connecting to cdn.hswstatic.com (cdn.hswstatic.com)|18.155.68.112|:443... connected.\n",
            "HTTP request sent, awaiting response... 200 OK\n",
            "Length: 495306 (484K) [image/jpeg]\n",
            "Saving to: ‘santa-claus-orig.jpg’\n",
            "\n",
            "santa-claus-orig.jp 100%[===================>] 483.70K   579KB/s    in 0.8s    \n",
            "\n",
            "2022-12-21 10:49:50 (579 KB/s) - ‘santa-claus-orig.jpg’ saved [495306/495306]\n",
            "\n"
          ]
        }
      ],
      "source": [
        "!wget https://cdn.hswstatic.com/gif/santa-claus-orig.jpg"
      ]
    },
    {
      "cell_type": "code",
      "execution_count": 33,
      "metadata": {
        "colab": {
          "base_uri": "https://localhost:8080/"
        },
        "id": "2Vl547xHGhK4",
        "outputId": "b6e7fe0d-4bce-4076-95e3-a9af36763693"
      },
      "outputs": [
        {
          "output_type": "stream",
          "name": "stdout",
          "text": [
            "1/1 [==============================] - 1s 1s/step\n"
          ]
        },
        {
          "output_type": "execute_result",
          "data": {
            "text/plain": [
              "array([[0.9999988]], dtype=float32)"
            ]
          },
          "metadata": {},
          "execution_count": 33
        }
      ],
      "source": [
        "path = './'\n",
        "name = 'santa-claus-orig.jpg'\n",
        "fullname = path + '/' + name\n",
        "img = load_img(fullname, target_size=(150, 150))\n",
        "X = preprocess_input(np.array([np.array(img)]))\n",
        "pred = model.predict(X)\n",
        "pred"
      ]
    },
    {
      "cell_type": "markdown",
      "metadata": {
        "id": "FAdNhLptGhK4"
      },
      "source": [
        "# Model saving"
      ]
    },
    {
      "cell_type": "code",
      "execution_count": 63,
      "metadata": {
        "id": "k7mjv_ZgGhK4"
      },
      "outputs": [],
      "source": [
        "model.save('santa-class-v1.h5')"
      ]
    },
    {
      "cell_type": "code",
      "execution_count": null,
      "metadata": {
        "id": "SZ2fLy3aGhK4",
        "outputId": "c88c310e-68e3-4734-afe1-385a8aaf12ed"
      },
      "outputs": [
        {
          "name": "stderr",
          "output_type": "stream",
          "text": [
            "WARNING:absl:Found untraced functions such as _jit_compiled_convolution_op, _jit_compiled_convolution_op, _jit_compiled_convolution_op, _jit_compiled_convolution_op, _jit_compiled_convolution_op while saving (showing 5 of 40). These functions will not be directly callable after loading.\n"
          ]
        },
        {
          "name": "stdout",
          "output_type": "stream",
          "text": [
            "INFO:tensorflow:Assets written to: santa-class-v1/assets\n"
          ]
        },
        {
          "name": "stderr",
          "output_type": "stream",
          "text": [
            "INFO:tensorflow:Assets written to: santa-class-v1/assets\n"
          ]
        }
      ],
      "source": [
        "tf.saved_model.save(model, 'santa-class-v1')"
      ]
    },
    {
      "cell_type": "code",
      "execution_count": null,
      "metadata": {
        "id": "kT6QK5E-GhK5"
      },
      "outputs": [],
      "source": []
    }
  ],
  "metadata": {
    "kernelspec": {
      "display_name": "tf",
      "language": "python",
      "name": "python3"
    },
    "language_info": {
      "codemirror_mode": {
        "name": "ipython",
        "version": 3
      },
      "file_extension": ".py",
      "mimetype": "text/x-python",
      "name": "python",
      "nbconvert_exporter": "python",
      "pygments_lexer": "ipython3",
      "version": "3.9.13 (main, Oct 13 2022, 21:15:33) \n[GCC 11.2.0]"
    },
    "orig_nbformat": 4,
    "vscode": {
      "interpreter": {
        "hash": "a57b9e922a7885853ad11f25a83b844d08aefaf3a2cdf3f180ecacdb4d6e43a4"
      }
    },
    "colab": {
      "provenance": []
    },
    "accelerator": "GPU",
    "gpuClass": "standard"
  },
  "nbformat": 4,
  "nbformat_minor": 0
}