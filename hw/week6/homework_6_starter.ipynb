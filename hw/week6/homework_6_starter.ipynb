{
  "cells": [
    {
      "cell_type": "markdown",
      "metadata": {
        "id": "-JrenrSGmAeg"
      },
      "source": [
        "**HOMEWORK**  \n",
        "\n",
        "The goal of this homework is to create a regression model for predicting housing prices (column 'median_house_value').  \n",
        "\n",
        "In this homework we'll again use the California Housing Prices dataset - the same one we used in homework 2 and 3.\n",
        "\n",
        "You can take it from [Kaggle](https://www.kaggle.com/datasets/camnugent/california-housing-prices) or download using wget link mentioned below:\n",
        "\n",
        "```\n",
        "wget https://raw.githubusercontent.com/alexeygrigorev/datasets/master/housing.csv\n",
        "\n",
        "```\n",
        "\n"
      ]
    },
    {
      "cell_type": "code",
      "execution_count": 2,
      "metadata": {
        "id": "nLosiCNJUjDM"
      },
      "outputs": [],
      "source": [
        "#@ IMPORTING LIBRARIES AND DEPENDENCIES:\n",
        "import re\n",
        "import numpy as np\n",
        "import pandas as pd\n",
        "import seaborn as sns\n",
        "import xgboost as xgb\n",
        "import matplotlib.pyplot as plt\n",
        "from tqdm.auto import tqdm\n",
        "from sklearn.tree import DecisionTreeRegressor\n",
        "from sklearn.tree import export_text\n",
        "from sklearn.feature_extraction import DictVectorizer\n",
        "from sklearn.model_selection import train_test_split\n",
        "from sklearn.ensemble import RandomForestRegressor\n",
        "from sklearn.metrics import mean_squared_error\n",
        "\n",
        "%matplotlib inline"
      ]
    },
    {
      "cell_type": "code",
      "execution_count": 2,
      "metadata": {
        "id": "4Psk224nnyIF"
      },
      "outputs": [
        {
          "name": "stderr",
          "output_type": "stream",
          "text": [
            "--2022-10-17 09:18:52--  https://raw.githubusercontent.com/alexeygrigorev/datasets/master/housing.csv\n",
            "Resolving raw.githubusercontent.com (raw.githubusercontent.com)... 185.199.108.133, 185.199.109.133, 185.199.110.133, ...\n",
            "Connecting to raw.githubusercontent.com (raw.githubusercontent.com)|185.199.108.133|:443... connected.\n",
            "HTTP request sent, awaiting response... 200 OK\n",
            "Length: 1423529 (1,4M) [text/plain]\n",
            "Saving to: 'housing.csv'\n",
            "\n",
            "     0K .......... .......... .......... .......... ..........  3% 1,19M 1s\n",
            "    50K .......... .......... .......... .......... ..........  7% 3,29M 1s\n",
            "   100K .......... .......... .......... .......... .......... 10% 1,47M 1s\n",
            "   150K .......... .......... .......... .......... .......... 14% 6,39M 1s\n",
            "   200K .......... .......... .......... .......... .......... 17% 2,28M 1s\n",
            "   250K .......... .......... .......... .......... .......... 21% 4,06M 0s\n",
            "   300K .......... .......... .......... .......... .......... 25% 4,06M 0s\n",
            "   350K .......... .......... .......... .......... .......... 28% 2,88M 0s\n",
            "   400K .......... .......... .......... .......... .......... 32% 4,33M 0s\n",
            "   450K .......... .......... .......... .......... .......... 35% 3,60M 0s\n",
            "   500K .......... .......... .......... .......... .......... 39% 3,71M 0s\n",
            "   550K .......... .......... .......... .......... .......... 43% 6,71M 0s\n",
            "   600K .......... .......... .......... .......... .......... 46% 2,83M 0s\n",
            "   650K .......... .......... .......... .......... .......... 50% 3,93M 0s\n",
            "   700K .......... .......... .......... .......... .......... 53% 4,71M 0s\n",
            "   750K .......... .......... .......... .......... .......... 57% 4,68M 0s\n",
            "   800K .......... .......... .......... .......... .......... 61% 2,41M 0s\n",
            "   850K .......... .......... .......... .......... .......... 64% 9,49M 0s\n",
            "   900K .......... .......... .......... .......... .......... 68% 5,35M 0s\n",
            "   950K .......... .......... .......... .......... .......... 71% 2,61M 0s\n",
            "  1000K .......... .......... .......... .......... .......... 75% 5,84M 0s\n",
            "  1050K .......... .......... .......... .......... .......... 79% 5,67M 0s\n",
            "  1100K .......... .......... .......... .......... .......... 82% 4,55M 0s\n",
            "  1150K .......... .......... .......... .......... .......... 86% 7,77M 0s\n",
            "  1200K .......... .......... .......... .......... .......... 89% 3,97M 0s\n",
            "  1250K .......... .......... .......... .......... .......... 93% 4,56M 0s\n",
            "  1300K .......... .......... .......... .......... .......... 97% 4,62M 0s\n",
            "  1350K .......... .......... .......... ..........           100% 13,5M=0,4s\n",
            "\n",
            "2022-10-17 09:18:53 (3,59 MB/s) - 'housing.csv' saved [1423529/1423529]\n",
            "\n"
          ]
        }
      ],
      "source": [
        "#@ DOWNLOADING THE DATASET: UNCOMMENT BELOW:\n",
        "!wget https://raw.githubusercontent.com/alexeygrigorev/datasets/master/housing.csv"
      ]
    },
    {
      "cell_type": "code",
      "execution_count": 3,
      "metadata": {
        "id": "492Hn6-3n08G"
      },
      "outputs": [],
      "source": [
        "#@ READING DATASET:\n",
        "PATH = \"./housing.csv\"\n",
        "select_cols = [\"longitude\", \"latitude\", \"housing_median_age\", \"total_rooms\", \"total_bedrooms\", \"population\", \"households\", \n",
        "               \"median_income\", \"median_house_value\", \"ocean_proximity\"]\n",
        "df = pd.read_csv(PATH, usecols=select_cols)\n",
        "df.total_bedrooms = df.total_bedrooms.fillna(0)"
      ]
    },
    {
      "cell_type": "markdown",
      "metadata": {
        "id": "OqXppJ_Ro0H0"
      },
      "source": [
        "- Apply the log transform to `median_house_value`. \n",
        "- Do train/validation/test split with 60%/20%/20% distribution.\n",
        "- Use the `train_test_split` function and set the `random_state parameter` to 1."
      ]
    },
    {
      "cell_type": "code",
      "execution_count": 4,
      "metadata": {},
      "outputs": [
        {
          "data": {
            "text/html": [
              "<div>\n",
              "<style scoped>\n",
              "    .dataframe tbody tr th:only-of-type {\n",
              "        vertical-align: middle;\n",
              "    }\n",
              "\n",
              "    .dataframe tbody tr th {\n",
              "        vertical-align: top;\n",
              "    }\n",
              "\n",
              "    .dataframe thead th {\n",
              "        text-align: right;\n",
              "    }\n",
              "</style>\n",
              "<table border=\"1\" class=\"dataframe\">\n",
              "  <thead>\n",
              "    <tr style=\"text-align: right;\">\n",
              "      <th></th>\n",
              "      <th>longitude</th>\n",
              "      <th>latitude</th>\n",
              "      <th>housing_median_age</th>\n",
              "      <th>total_rooms</th>\n",
              "      <th>total_bedrooms</th>\n",
              "      <th>population</th>\n",
              "      <th>households</th>\n",
              "      <th>median_income</th>\n",
              "      <th>median_house_value</th>\n",
              "      <th>ocean_proximity</th>\n",
              "    </tr>\n",
              "  </thead>\n",
              "  <tbody>\n",
              "    <tr>\n",
              "      <th>0</th>\n",
              "      <td>-122.23</td>\n",
              "      <td>37.88</td>\n",
              "      <td>41.0</td>\n",
              "      <td>880.0</td>\n",
              "      <td>129.0</td>\n",
              "      <td>322.0</td>\n",
              "      <td>126.0</td>\n",
              "      <td>8.3252</td>\n",
              "      <td>452600.0</td>\n",
              "      <td>NEAR BAY</td>\n",
              "    </tr>\n",
              "    <tr>\n",
              "      <th>1</th>\n",
              "      <td>-122.22</td>\n",
              "      <td>37.86</td>\n",
              "      <td>21.0</td>\n",
              "      <td>7099.0</td>\n",
              "      <td>1106.0</td>\n",
              "      <td>2401.0</td>\n",
              "      <td>1138.0</td>\n",
              "      <td>8.3014</td>\n",
              "      <td>358500.0</td>\n",
              "      <td>NEAR BAY</td>\n",
              "    </tr>\n",
              "    <tr>\n",
              "      <th>2</th>\n",
              "      <td>-122.24</td>\n",
              "      <td>37.85</td>\n",
              "      <td>52.0</td>\n",
              "      <td>1467.0</td>\n",
              "      <td>190.0</td>\n",
              "      <td>496.0</td>\n",
              "      <td>177.0</td>\n",
              "      <td>7.2574</td>\n",
              "      <td>352100.0</td>\n",
              "      <td>NEAR BAY</td>\n",
              "    </tr>\n",
              "    <tr>\n",
              "      <th>3</th>\n",
              "      <td>-122.25</td>\n",
              "      <td>37.85</td>\n",
              "      <td>52.0</td>\n",
              "      <td>1274.0</td>\n",
              "      <td>235.0</td>\n",
              "      <td>558.0</td>\n",
              "      <td>219.0</td>\n",
              "      <td>5.6431</td>\n",
              "      <td>341300.0</td>\n",
              "      <td>NEAR BAY</td>\n",
              "    </tr>\n",
              "    <tr>\n",
              "      <th>4</th>\n",
              "      <td>-122.25</td>\n",
              "      <td>37.85</td>\n",
              "      <td>52.0</td>\n",
              "      <td>1627.0</td>\n",
              "      <td>280.0</td>\n",
              "      <td>565.0</td>\n",
              "      <td>259.0</td>\n",
              "      <td>3.8462</td>\n",
              "      <td>342200.0</td>\n",
              "      <td>NEAR BAY</td>\n",
              "    </tr>\n",
              "  </tbody>\n",
              "</table>\n",
              "</div>"
            ],
            "text/plain": [
              "   longitude  latitude  housing_median_age  total_rooms  total_bedrooms  \\\n",
              "0    -122.23     37.88                41.0        880.0           129.0   \n",
              "1    -122.22     37.86                21.0       7099.0          1106.0   \n",
              "2    -122.24     37.85                52.0       1467.0           190.0   \n",
              "3    -122.25     37.85                52.0       1274.0           235.0   \n",
              "4    -122.25     37.85                52.0       1627.0           280.0   \n",
              "\n",
              "   population  households  median_income  median_house_value ocean_proximity  \n",
              "0       322.0       126.0         8.3252            452600.0        NEAR BAY  \n",
              "1      2401.0      1138.0         8.3014            358500.0        NEAR BAY  \n",
              "2       496.0       177.0         7.2574            352100.0        NEAR BAY  \n",
              "3       558.0       219.0         5.6431            341300.0        NEAR BAY  \n",
              "4       565.0       259.0         3.8462            342200.0        NEAR BAY  "
            ]
          },
          "execution_count": 4,
          "metadata": {},
          "output_type": "execute_result"
        }
      ],
      "source": [
        "df.head()"
      ]
    },
    {
      "cell_type": "code",
      "execution_count": 9,
      "metadata": {},
      "outputs": [
        {
          "data": {
            "text/plain": [
              "<AxesSubplot:ylabel='Frequency'>"
            ]
          },
          "execution_count": 9,
          "metadata": {},
          "output_type": "execute_result"
        },
        {
          "data": {
            "image/png": "[encoded data removed]",
            "text/plain": [
              "<Figure size 640x480 with 1 Axes>"
            ]
          },
          "metadata": {},
          "output_type": "display_data"
        }
      ],
      "source": [
        "df.median_house_value.plot(kind='hist', bins=50)"
      ]
    },
    {
      "cell_type": "code",
      "execution_count": 14,
      "metadata": {},
      "outputs": [
        {
          "data": {
            "image/png": "[encoded data removed]",
            "text/plain": [
              "<Figure size 640x480 with 1 Axes>"
            ]
          },
          "metadata": {},
          "output_type": "display_data"
        }
      ],
      "source": [
        "plt.hist(np.log1p(df.median_house_value), bins=30);"
      ]
    },
    {
      "cell_type": "code",
      "execution_count": 5,
      "metadata": {},
      "outputs": [],
      "source": [
        "df_X = df.drop('median_house_value', axis=1)\n",
        "y = np.log1p(df.median_house_value)"
      ]
    },
    {
      "cell_type": "code",
      "execution_count": 8,
      "metadata": {
        "id": "W1MmdcRDpHS1"
      },
      "outputs": [],
      "source": [
        "#@ SPLITTING THE DATASET FOR TRAINING AND TEST:\n",
        "df_full_train, df_test, y_full_train, y_test = train_test_split(df_X, y, test_size=0.2, random_state=1)\n",
        "df_train, df_val, y_train, y_val = train_test_split(df_full_train, y_full_train, test_size=0.25, random_state=1)\n",
        "df_train = df_train.reset_index(drop=True)\n",
        "df_val = df_val.reset_index(drop=True)\n",
        "df_test = df_test.reset_index(drop=True)\n",
        "y_train = y_train.reset_index(drop=True)\n",
        "y_val = y_val.reset_index(drop=True)\n",
        "y_test = y_test.reset_index(drop=True)\n"
      ]
    },
    {
      "cell_type": "code",
      "execution_count": null,
      "metadata": {},
      "outputs": [],
      "source": []
    },
    {
      "cell_type": "code",
      "execution_count": 9,
      "metadata": {},
      "outputs": [
        {
          "data": {
            "text/plain": [
              "0       12.779876\n",
              "1       11.166215\n",
              "2       12.343227\n",
              "3       11.630717\n",
              "4       12.325636\n",
              "          ...    \n",
              "4123    11.130215\n",
              "4124    12.323860\n",
              "4125    12.765691\n",
              "4126    12.334030\n",
              "4127    11.861474\n",
              "Name: median_house_value, Length: 4128, dtype: float64"
            ]
          },
          "execution_count": 9,
          "metadata": {},
          "output_type": "execute_result"
        }
      ],
      "source": [
        "y_test"
      ]
    },
    {
      "cell_type": "markdown",
      "metadata": {
        "id": "5VKq8FX7qIVM"
      },
      "source": [
        "- We will use `DictVectorizer` to turn train and validation into matrices."
      ]
    },
    {
      "cell_type": "code",
      "execution_count": 16,
      "metadata": {
        "id": "WnfFrWe9qtuc"
      },
      "outputs": [],
      "source": [
        "#@ IMPLEMENTATION OF DICTVECTORIZER:\n",
        "dv = DictVectorizer(sparse=False)\n",
        "df_train_dicts = df_train.to_dict(orient='records')\n",
        "df_val_dicts = df_val.to_dict(orient='records')\n",
        "df_test_dicts = df_test.to_dict(orient='records')\n",
        "X_train = dv.fit_transform(df_train_dicts)\n",
        "X_val = dv.transform(df_val_dicts)\n",
        "X_test = dv.transform(df_test_dicts)"
      ]
    },
    {
      "cell_type": "markdown",
      "metadata": {
        "id": "qvxmhaD5hmAK"
      },
      "source": [
        "**Question 1**\n",
        "\n",
        "Let's train a decision tree regressor to predict the `median_house_value` variable.\n",
        "\n",
        "Train a model with `max_depth=1`."
      ]
    },
    {
      "cell_type": "code",
      "execution_count": 17,
      "metadata": {
        "id": "cqBcSbpIq7kJ"
      },
      "outputs": [
        {
          "data": {
            "text/html": [
              "<style>#sk-container-id-3 {color: black;background-color: white;}#sk-container-id-3 pre{padding: 0;}#sk-container-id-3 div.sk-toggleable {background-color: white;}#sk-container-id-3 label.sk-toggleable__label {cursor: pointer;display: block;width: 100%;margin-bottom: 0;padding: 0.3em;box-sizing: border-box;text-align: center;}#sk-container-id-3 label.sk-toggleable__label-arrow:before {content: \"▸\";float: left;margin-right: 0.25em;color: #696969;}#sk-container-id-3 label.sk-toggleable__label-arrow:hover:before {color: black;}#sk-container-id-3 div.sk-estimator:hover label.sk-toggleable__label-arrow:before {color: black;}#sk-container-id-3 div.sk-toggleable__content {max-height: 0;max-width: 0;overflow: hidden;text-align: left;background-color: #f0f8ff;}#sk-container-id-3 div.sk-toggleable__content pre {margin: 0.2em;color: black;border-radius: 0.25em;background-color: #f0f8ff;}#sk-container-id-3 input.sk-toggleable__control:checked~div.sk-toggleable__content {max-height: 200px;max-width: 100%;overflow: auto;}#sk-container-id-3 input.sk-toggleable__control:checked~label.sk-toggleable__label-arrow:before {content: \"▾\";}#sk-container-id-3 div.sk-estimator input.sk-toggleable__control:checked~label.sk-toggleable__label {background-color: #d4ebff;}#sk-container-id-3 div.sk-label input.sk-toggleable__control:checked~label.sk-toggleable__label {background-color: #d4ebff;}#sk-container-id-3 input.sk-hidden--visually {border: 0;clip: rect(1px 1px 1px 1px);clip: rect(1px, 1px, 1px, 1px);height: 1px;margin: -1px;overflow: hidden;padding: 0;position: absolute;width: 1px;}#sk-container-id-3 div.sk-estimator {font-family: monospace;background-color: #f0f8ff;border: 1px dotted black;border-radius: 0.25em;box-sizing: border-box;margin-bottom: 0.5em;}#sk-container-id-3 div.sk-estimator:hover {background-color: #d4ebff;}#sk-container-id-3 div.sk-parallel-item::after {content: \"\";width: 100%;border-bottom: 1px solid gray;flex-grow: 1;}#sk-container-id-3 div.sk-label:hover label.sk-toggleable__label {background-color: #d4ebff;}#sk-container-id-3 div.sk-serial::before {content: \"\";position: absolute;border-left: 1px solid gray;box-sizing: border-box;top: 0;bottom: 0;left: 50%;z-index: 0;}#sk-container-id-3 div.sk-serial {display: flex;flex-direction: column;align-items: center;background-color: white;padding-right: 0.2em;padding-left: 0.2em;position: relative;}#sk-container-id-3 div.sk-item {position: relative;z-index: 1;}#sk-container-id-3 div.sk-parallel {display: flex;align-items: stretch;justify-content: center;background-color: white;position: relative;}#sk-container-id-3 div.sk-item::before, #sk-container-id-3 div.sk-parallel-item::before {content: \"\";position: absolute;border-left: 1px solid gray;box-sizing: border-box;top: 0;bottom: 0;left: 50%;z-index: -1;}#sk-container-id-3 div.sk-parallel-item {display: flex;flex-direction: column;z-index: 1;position: relative;background-color: white;}#sk-container-id-3 div.sk-parallel-item:first-child::after {align-self: flex-end;width: 50%;}#sk-container-id-3 div.sk-parallel-item:last-child::after {align-self: flex-start;width: 50%;}#sk-container-id-3 div.sk-parallel-item:only-child::after {width: 0;}#sk-container-id-3 div.sk-dashed-wrapped {border: 1px dashed gray;margin: 0 0.4em 0.5em 0.4em;box-sizing: border-box;padding-bottom: 0.4em;background-color: white;}#sk-container-id-3 div.sk-label label {font-family: monospace;font-weight: bold;display: inline-block;line-height: 1.2em;}#sk-container-id-3 div.sk-label-container {text-align: center;}#sk-container-id-3 div.sk-container {/* jupyter's `normalize.less` sets `[hidden] { display: none; }` but bootstrap.min.css set `[hidden] { display: none !important; }` so we also need the `!important` here to be able to override the default hidden behavior on the sphinx rendered scikit-learn.org. See: https://github.com/scikit-learn/scikit-learn/issues/21755 */display: inline-block !important;position: relative;}#sk-container-id-3 div.sk-text-repr-fallback {display: none;}</style><div id=\"sk-container-id-3\" class=\"sk-top-container\"><div class=\"sk-text-repr-fallback\"><pre>DecisionTreeRegressor(max_depth=1)</pre><b>In a Jupyter environment, please rerun this cell to show the HTML representation or trust the notebook. <br />On GitHub, the HTML representation is unable to render, please try loading this page with nbviewer.org.</b></div><div class=\"sk-container\" hidden><div class=\"sk-item\"><div class=\"sk-estimator sk-toggleable\"><input class=\"sk-toggleable__control sk-hidden--visually\" id=\"sk-estimator-id-3\" type=\"checkbox\" checked><label for=\"sk-estimator-id-3\" class=\"sk-toggleable__label sk-toggleable__label-arrow\">DecisionTreeRegressor</label><div class=\"sk-toggleable__content\"><pre>DecisionTreeRegressor(max_depth=1)</pre></div></div></div></div></div>"
            ],
            "text/plain": [
              "DecisionTreeRegressor(max_depth=1)"
            ]
          },
          "execution_count": 17,
          "metadata": {},
          "output_type": "execute_result"
        }
      ],
      "source": [
        "#@ TRAINING THE REGRESSION MODEL:\n",
        "dt = DecisionTreeRegressor(max_depth=1)\n",
        "dt.fit(X_train, y_train)"
      ]
    },
    {
      "cell_type": "code",
      "execution_count": 18,
      "metadata": {
        "id": "sLAnqRwuikqQ"
      },
      "outputs": [
        {
          "data": {
            "text/plain": [
              "'|--- ocean_proximity=INLAND <= 0.50\\n|   |--- value: [12.31]\\n|--- ocean_proximity=INLAND >  0.50\\n|   |--- value: [11.61]\\n'"
            ]
          },
          "execution_count": 18,
          "metadata": {},
          "output_type": "execute_result"
        }
      ],
      "source": [
        "#@ INSPECTION:\n",
        "export_text(dt, feature_names=list(dv.get_feature_names_out()))"
      ]
    },
    {
      "cell_type": "markdown",
      "metadata": {
        "id": "JNBm-qeRp6aZ"
      },
      "source": [
        "- Which feature is used for splitting the data?\n",
        "\n",
        "- Answer: ocean_proximity=INLAND"
      ]
    },
    {
      "cell_type": "markdown",
      "metadata": {
        "id": "Xhnbdy-CqQoB"
      },
      "source": [
        "**Question 2**\n",
        "\n",
        "Train a random forest model with these parameters:\n",
        "\n",
        "- `n_estimators=10`  \n",
        "- `random_state=1`  \n",
        "- `n_jobs=-1` (optional-to make training faster)"
      ]
    },
    {
      "cell_type": "code",
      "execution_count": 19,
      "metadata": {
        "id": "2w-YSGYMisFt"
      },
      "outputs": [
        {
          "data": {
            "text/html": [
              "<style>#sk-container-id-4 {color: black;background-color: white;}#sk-container-id-4 pre{padding: 0;}#sk-container-id-4 div.sk-toggleable {background-color: white;}#sk-container-id-4 label.sk-toggleable__label {cursor: pointer;display: block;width: 100%;margin-bottom: 0;padding: 0.3em;box-sizing: border-box;text-align: center;}#sk-container-id-4 label.sk-toggleable__label-arrow:before {content: \"▸\";float: left;margin-right: 0.25em;color: #696969;}#sk-container-id-4 label.sk-toggleable__label-arrow:hover:before {color: black;}#sk-container-id-4 div.sk-estimator:hover label.sk-toggleable__label-arrow:before {color: black;}#sk-container-id-4 div.sk-toggleable__content {max-height: 0;max-width: 0;overflow: hidden;text-align: left;background-color: #f0f8ff;}#sk-container-id-4 div.sk-toggleable__content pre {margin: 0.2em;color: black;border-radius: 0.25em;background-color: #f0f8ff;}#sk-container-id-4 input.sk-toggleable__control:checked~div.sk-toggleable__content {max-height: 200px;max-width: 100%;overflow: auto;}#sk-container-id-4 input.sk-toggleable__control:checked~label.sk-toggleable__label-arrow:before {content: \"▾\";}#sk-container-id-4 div.sk-estimator input.sk-toggleable__control:checked~label.sk-toggleable__label {background-color: #d4ebff;}#sk-container-id-4 div.sk-label input.sk-toggleable__control:checked~label.sk-toggleable__label {background-color: #d4ebff;}#sk-container-id-4 input.sk-hidden--visually {border: 0;clip: rect(1px 1px 1px 1px);clip: rect(1px, 1px, 1px, 1px);height: 1px;margin: -1px;overflow: hidden;padding: 0;position: absolute;width: 1px;}#sk-container-id-4 div.sk-estimator {font-family: monospace;background-color: #f0f8ff;border: 1px dotted black;border-radius: 0.25em;box-sizing: border-box;margin-bottom: 0.5em;}#sk-container-id-4 div.sk-estimator:hover {background-color: #d4ebff;}#sk-container-id-4 div.sk-parallel-item::after {content: \"\";width: 100%;border-bottom: 1px solid gray;flex-grow: 1;}#sk-container-id-4 div.sk-label:hover label.sk-toggleable__label {background-color: #d4ebff;}#sk-container-id-4 div.sk-serial::before {content: \"\";position: absolute;border-left: 1px solid gray;box-sizing: border-box;top: 0;bottom: 0;left: 50%;z-index: 0;}#sk-container-id-4 div.sk-serial {display: flex;flex-direction: column;align-items: center;background-color: white;padding-right: 0.2em;padding-left: 0.2em;position: relative;}#sk-container-id-4 div.sk-item {position: relative;z-index: 1;}#sk-container-id-4 div.sk-parallel {display: flex;align-items: stretch;justify-content: center;background-color: white;position: relative;}#sk-container-id-4 div.sk-item::before, #sk-container-id-4 div.sk-parallel-item::before {content: \"\";position: absolute;border-left: 1px solid gray;box-sizing: border-box;top: 0;bottom: 0;left: 50%;z-index: -1;}#sk-container-id-4 div.sk-parallel-item {display: flex;flex-direction: column;z-index: 1;position: relative;background-color: white;}#sk-container-id-4 div.sk-parallel-item:first-child::after {align-self: flex-end;width: 50%;}#sk-container-id-4 div.sk-parallel-item:last-child::after {align-self: flex-start;width: 50%;}#sk-container-id-4 div.sk-parallel-item:only-child::after {width: 0;}#sk-container-id-4 div.sk-dashed-wrapped {border: 1px dashed gray;margin: 0 0.4em 0.5em 0.4em;box-sizing: border-box;padding-bottom: 0.4em;background-color: white;}#sk-container-id-4 div.sk-label label {font-family: monospace;font-weight: bold;display: inline-block;line-height: 1.2em;}#sk-container-id-4 div.sk-label-container {text-align: center;}#sk-container-id-4 div.sk-container {/* jupyter's `normalize.less` sets `[hidden] { display: none; }` but bootstrap.min.css set `[hidden] { display: none !important; }` so we also need the `!important` here to be able to override the default hidden behavior on the sphinx rendered scikit-learn.org. See: https://github.com/scikit-learn/scikit-learn/issues/21755 */display: inline-block !important;position: relative;}#sk-container-id-4 div.sk-text-repr-fallback {display: none;}</style><div id=\"sk-container-id-4\" class=\"sk-top-container\"><div class=\"sk-text-repr-fallback\"><pre>RandomForestRegressor(n_estimators=10, n_jobs=-1, random_state=1)</pre><b>In a Jupyter environment, please rerun this cell to show the HTML representation or trust the notebook. <br />On GitHub, the HTML representation is unable to render, please try loading this page with nbviewer.org.</b></div><div class=\"sk-container\" hidden><div class=\"sk-item\"><div class=\"sk-estimator sk-toggleable\"><input class=\"sk-toggleable__control sk-hidden--visually\" id=\"sk-estimator-id-4\" type=\"checkbox\" checked><label for=\"sk-estimator-id-4\" class=\"sk-toggleable__label sk-toggleable__label-arrow\">RandomForestRegressor</label><div class=\"sk-toggleable__content\"><pre>RandomForestRegressor(n_estimators=10, n_jobs=-1, random_state=1)</pre></div></div></div></div></div>"
            ],
            "text/plain": [
              "RandomForestRegressor(n_estimators=10, n_jobs=-1, random_state=1)"
            ]
          },
          "execution_count": 19,
          "metadata": {},
          "output_type": "execute_result"
        }
      ],
      "source": [
        "#@ TRAINING RANDOM FOREST MODEL:\n",
        "rf = RandomForestRegressor(n_estimators=10, random_state=1, n_jobs=-1)\n",
        "rf.fit(X_train, y_train)"
      ]
    },
    {
      "cell_type": "code",
      "execution_count": 20,
      "metadata": {
        "id": "jCxUAO2Rq1Ps"
      },
      "outputs": [
        {
          "data": {
            "text/plain": [
              "0.25"
            ]
          },
          "execution_count": 20,
          "metadata": {},
          "output_type": "execute_result"
        }
      ],
      "source": [
        "#@ CALCULATING MEAN SQUARED ERROR:\n",
        "y_pred = rf.predict(X_val)\n",
        "np.sqrt(mean_squared_error(y_val, y_pred)).round(2)"
      ]
    },
    {
      "cell_type": "markdown",
      "metadata": {
        "id": "jfcDllHxrTqu"
      },
      "source": [
        "- What's the RMSE of this model on validation?\n",
        "\n",
        "- Answer:0.25"
      ]
    },
    {
      "cell_type": "markdown",
      "metadata": {
        "id": "Y7K69bFSrg_V"
      },
      "source": [
        "**Question 3**\n",
        "\n",
        "Now, let's experiment with the `n_estimators` parameter.\n",
        "\n",
        "- Try different values of this parameter from 10 to 200 with step 10.\n",
        "- Set `random_state` to 1.\n",
        "- Evaluate the model on the validation dataset."
      ]
    },
    {
      "cell_type": "code",
      "execution_count": 21,
      "metadata": {
        "id": "-oUFCQwOrQNN"
      },
      "outputs": [
        {
          "name": "stdout",
          "output_type": "stream",
          "text": [
            "10 0.2457383433183843\n",
            "20 0.23926159143162362\n",
            "30 0.23571658024242997\n",
            "40 0.23458299288526632\n",
            "50 0.23310354554874654\n",
            "60 0.2328429808263216\n",
            "70 0.232384046270577\n",
            "80 0.2325270885881096\n",
            "90 0.2322152441944244\n",
            "100 0.23196833981101553\n",
            "110 0.2315183513876384\n",
            "120 0.23162059722289455\n",
            "130 0.2317096161887402\n",
            "140 0.23169246809784286\n",
            "150 0.23169445775520764\n",
            "160 0.2316972116152682\n",
            "170 0.23162910205851625\n",
            "180 0.2317902360719715\n",
            "190 0.23176241418109447\n",
            "200 0.23165006514034595\n"
          ]
        }
      ],
      "source": [
        "#@ TRAINING THE RANDOM FOREST MODEL:\n",
        "scores = []\n",
        "for n in range(10, 201, 10):\n",
        "    rf = RandomForestRegressor(n_estimators=n, random_state=1, n_jobs=-1)\n",
        "    rf.fit(X_train, y_train)\n",
        "    y_pred = rf.predict(X_val)\n",
        "    rmse = np.sqrt(mean_squared_error(y_val, y_pred))\n",
        "    print(n, rmse)\n",
        "    scores.append((n, rmse))"
      ]
    },
    {
      "cell_type": "code",
      "execution_count": 22,
      "metadata": {
        "id": "3J-wFLh4s8Ky"
      },
      "outputs": [
        {
          "data": {
            "text/plain": [
              "<AxesSubplot:xlabel='n_estimators'>"
            ]
          },
          "execution_count": 22,
          "metadata": {},
          "output_type": "execute_result"
        },
        {
          "data": {
            "image/png": "[encoded data removed]",
            "text/plain": [
              "<Figure size 640x480 with 1 Axes>"
            ]
          },
          "metadata": {},
          "output_type": "display_data"
        }
      ],
      "source": [
        "#@ INSPECTING THE RMSE SCORES:\n",
        "df_rf_scores = pd.DataFrame(scores, columns=['n_estimators', 'rmse'])\n",
        "df_rf_scores.plot(x='n_estimators', y='rmse')\n"
      ]
    },
    {
      "cell_type": "code",
      "execution_count": 23,
      "metadata": {},
      "outputs": [
        {
          "data": {
            "text/plain": [
              "n_estimators    110.000000\n",
              "rmse              0.231518\n",
              "Name: 10, dtype: float64"
            ]
          },
          "execution_count": 23,
          "metadata": {},
          "output_type": "execute_result"
        }
      ],
      "source": [
        "df_rf_scores.iloc[df_rf_scores['rmse'].idxmin()]"
      ]
    },
    {
      "cell_type": "markdown",
      "metadata": {
        "id": "NAXZcW3AuC-d"
      },
      "source": [
        "- After which value of `n_estimators` does RMSE stop improving?\n",
        "\n",
        "- Answer: 110"
      ]
    },
    {
      "cell_type": "markdown",
      "metadata": {
        "id": "CYhRv3kEvWjK"
      },
      "source": [
        "**Question 4**\n",
        "\n",
        "Let's select the best `max_depth`:\n",
        "\n",
        "- Try different values of `max_depth`: [10, 15, 20, 25].\n",
        "- For each of these values, try different values of n_estimators from 10 till 200 (with step 10).\n",
        "- Fix the random seed: `random_state=1`."
      ]
    },
    {
      "cell_type": "code",
      "execution_count": 24,
      "metadata": {
        "id": "fO9TackKvKcS"
      },
      "outputs": [
        {
          "name": "stdout",
          "output_type": "stream",
          "text": [
            "10 10 0.25504160871076226\n",
            "10 20 0.2527843628111254\n",
            "10 30 0.25164651106868285\n",
            "10 40 0.2510617356366555\n",
            "10 50 0.2501924996109377\n",
            "10 60 0.25009613605670555\n",
            "10 70 0.24991662218794553\n",
            "10 80 0.24959018682670703\n",
            "10 90 0.24931387548986406\n",
            "10 100 0.24915438732328005\n",
            "10 110 0.24890494450291387\n",
            "10 120 0.2489692787772818\n",
            "10 130 0.2490994489918707\n",
            "10 140 0.24920575579859985\n",
            "10 150 0.2491914362442353\n",
            "10 160 0.24911488721352457\n",
            "10 170 0.2489002280044784\n",
            "10 180 0.24900930356623044\n",
            "10 190 0.24908309742304938\n",
            "10 200 0.24910554094143506\n",
            "15 10 0.24479009739308974\n",
            "15 20 0.23930647684326958\n",
            "15 30 0.23690899332310014\n",
            "15 40 0.23598320832282838\n",
            "15 50 0.23472976205475557\n",
            "15 60 0.23465620779540475\n",
            "15 70 0.23410614449955464\n",
            "15 80 0.23396237196709047\n",
            "15 90 0.23377586377559467\n",
            "15 100 0.23353976973246615\n",
            "15 110 0.23316836533579854\n",
            "15 120 0.2332170924991897\n",
            "15 130 0.2333099687153176\n",
            "15 140 0.23325447197960603\n",
            "15 150 0.23319835806483816\n",
            "15 160 0.23314363473022764\n",
            "15 170 0.23311174668233933\n",
            "15 180 0.2332367209924553\n",
            "15 190 0.23333706266123522\n",
            "15 200 0.2332599902006197\n",
            "20 10 0.2463272470947511\n",
            "20 20 0.23893704809865254\n",
            "20 30 0.23588594680469727\n",
            "20 40 0.23484447362154207\n",
            "20 50 0.2334110772056343\n",
            "20 60 0.2334268575203555\n",
            "20 70 0.2329485102460049\n",
            "20 80 0.23287600948835435\n",
            "20 90 0.2326772609881222\n",
            "20 100 0.23246905636843346\n",
            "20 110 0.23213858567512655\n",
            "20 120 0.23211819471311923\n",
            "20 130 0.23216046623873954\n",
            "20 140 0.23198294566550884\n",
            "20 150 0.23203153190290474\n",
            "20 160 0.23200216812285518\n",
            "20 170 0.23193878866247838\n",
            "20 180 0.23211760926183014\n",
            "20 190 0.2320543214695733\n",
            "20 200 0.23189282931100266\n",
            "25 10 0.24606899577838157\n",
            "25 20 0.23880350305509548\n",
            "25 30 0.23545383777019951\n",
            "25 40 0.23433791921746358\n",
            "25 50 0.23274726803476378\n",
            "25 60 0.23250551648969578\n",
            "25 70 0.2320066348814913\n",
            "25 80 0.23190540176939956\n",
            "25 90 0.2316691487555811\n",
            "25 100 0.23156311066272178\n",
            "25 110 0.23125549482891372\n",
            "25 120 0.23129706442622197\n",
            "25 130 0.23153029933747013\n",
            "25 140 0.23145847052239768\n",
            "25 150 0.2315106018155161\n",
            "25 160 0.2314844245971542\n",
            "25 170 0.2314400981789988\n",
            "25 180 0.23159836750515786\n",
            "25 190 0.2316026347801856\n",
            "25 200 0.23149231798014028\n"
          ]
        }
      ],
      "source": [
        "#@ TRAINING THE MODEL WITH DEPTH:\n",
        "scores_d_n = []\n",
        "for d in [10, 15, 20, 25]:\n",
        "    for n in range(10, 201, 10):\n",
        "        rf = RandomForestRegressor(max_depth=d, n_estimators=n, random_state=1, n_jobs=-1)\n",
        "        rf.fit(X_train, y_train)\n",
        "        y_pred = rf.predict(X_val)\n",
        "        rmse = np.sqrt(mean_squared_error(y_val, y_pred))\n",
        "        scores_d_n.append((d, n, rmse))\n",
        "        print(d, n, rmse)"
      ]
    },
    {
      "cell_type": "code",
      "execution_count": 25,
      "metadata": {},
      "outputs": [],
      "source": [
        "df_rf_scores_d_n = pd.DataFrame(scores_d_n, columns=['max_depth', 'n_estimators', 'rmse'])"
      ]
    },
    {
      "cell_type": "code",
      "execution_count": 26,
      "metadata": {},
      "outputs": [
        {
          "data": {
            "text/plain": [
              "<AxesSubplot:xlabel='n_estimators', ylabel='rmse'>"
            ]
          },
          "execution_count": 26,
          "metadata": {},
          "output_type": "execute_result"
        },
        {
          "data": {
            "image/png": "[encoded data removed]",
            "text/plain": [
              "<Figure size 640x480 with 1 Axes>"
            ]
          },
          "metadata": {},
          "output_type": "display_data"
        }
      ],
      "source": [
        "sns.lineplot(data=df_rf_scores_d_n, x='n_estimators', y='rmse', hue='max_depth', palette=sns.color_palette('husl', 4))"
      ]
    },
    {
      "cell_type": "markdown",
      "metadata": {
        "id": "eCRCaKlSwp7D"
      },
      "source": [
        "- What's the best `max_depth`:\n",
        "\n",
        "- Answer: 25"
      ]
    },
    {
      "cell_type": "markdown",
      "metadata": {
        "id": "BDLbx3N5xAoY"
      },
      "source": [
        "**Question 5**\n",
        "\n",
        "We can extract feature importance information from tree-based models.\n",
        "\n",
        "At each step of the decision tree learning algorith, it finds the best split. When doint it, we can calculate \"gain\" - the reduction in impurity before and after the split. This gain is quite useful in understanding what are the imporatant features for tree-based models.\n",
        "\n",
        "In Scikit-Learn, tree-based models contain this information in the `feature_importances_` field.\n",
        "\n",
        "For this homework question, we'll find the most important feature:\n",
        "\n",
        "Train the model with these parametes:\n",
        "- `n_estimators=10`,\n",
        "- `max_depth=20`,\n",
        "- `random_state=1`,\n",
        "- `n_jobs=-1` (optional)\n",
        "\n",
        "Get the feature importance information from this model"
      ]
    },
    {
      "cell_type": "code",
      "execution_count": 27,
      "metadata": {
        "id": "UICqST2Qwhbj"
      },
      "outputs": [
        {
          "data": {
            "text/html": [
              "<style>#sk-container-id-5 {color: black;background-color: white;}#sk-container-id-5 pre{padding: 0;}#sk-container-id-5 div.sk-toggleable {background-color: white;}#sk-container-id-5 label.sk-toggleable__label {cursor: pointer;display: block;width: 100%;margin-bottom: 0;padding: 0.3em;box-sizing: border-box;text-align: center;}#sk-container-id-5 label.sk-toggleable__label-arrow:before {content: \"▸\";float: left;margin-right: 0.25em;color: #696969;}#sk-container-id-5 label.sk-toggleable__label-arrow:hover:before {color: black;}#sk-container-id-5 div.sk-estimator:hover label.sk-toggleable__label-arrow:before {color: black;}#sk-container-id-5 div.sk-toggleable__content {max-height: 0;max-width: 0;overflow: hidden;text-align: left;background-color: #f0f8ff;}#sk-container-id-5 div.sk-toggleable__content pre {margin: 0.2em;color: black;border-radius: 0.25em;background-color: #f0f8ff;}#sk-container-id-5 input.sk-toggleable__control:checked~div.sk-toggleable__content {max-height: 200px;max-width: 100%;overflow: auto;}#sk-container-id-5 input.sk-toggleable__control:checked~label.sk-toggleable__label-arrow:before {content: \"▾\";}#sk-container-id-5 div.sk-estimator input.sk-toggleable__control:checked~label.sk-toggleable__label {background-color: #d4ebff;}#sk-container-id-5 div.sk-label input.sk-toggleable__control:checked~label.sk-toggleable__label {background-color: #d4ebff;}#sk-container-id-5 input.sk-hidden--visually {border: 0;clip: rect(1px 1px 1px 1px);clip: rect(1px, 1px, 1px, 1px);height: 1px;margin: -1px;overflow: hidden;padding: 0;position: absolute;width: 1px;}#sk-container-id-5 div.sk-estimator {font-family: monospace;background-color: #f0f8ff;border: 1px dotted black;border-radius: 0.25em;box-sizing: border-box;margin-bottom: 0.5em;}#sk-container-id-5 div.sk-estimator:hover {background-color: #d4ebff;}#sk-container-id-5 div.sk-parallel-item::after {content: \"\";width: 100%;border-bottom: 1px solid gray;flex-grow: 1;}#sk-container-id-5 div.sk-label:hover label.sk-toggleable__label {background-color: #d4ebff;}#sk-container-id-5 div.sk-serial::before {content: \"\";position: absolute;border-left: 1px solid gray;box-sizing: border-box;top: 0;bottom: 0;left: 50%;z-index: 0;}#sk-container-id-5 div.sk-serial {display: flex;flex-direction: column;align-items: center;background-color: white;padding-right: 0.2em;padding-left: 0.2em;position: relative;}#sk-container-id-5 div.sk-item {position: relative;z-index: 1;}#sk-container-id-5 div.sk-parallel {display: flex;align-items: stretch;justify-content: center;background-color: white;position: relative;}#sk-container-id-5 div.sk-item::before, #sk-container-id-5 div.sk-parallel-item::before {content: \"\";position: absolute;border-left: 1px solid gray;box-sizing: border-box;top: 0;bottom: 0;left: 50%;z-index: -1;}#sk-container-id-5 div.sk-parallel-item {display: flex;flex-direction: column;z-index: 1;position: relative;background-color: white;}#sk-container-id-5 div.sk-parallel-item:first-child::after {align-self: flex-end;width: 50%;}#sk-container-id-5 div.sk-parallel-item:last-child::after {align-self: flex-start;width: 50%;}#sk-container-id-5 div.sk-parallel-item:only-child::after {width: 0;}#sk-container-id-5 div.sk-dashed-wrapped {border: 1px dashed gray;margin: 0 0.4em 0.5em 0.4em;box-sizing: border-box;padding-bottom: 0.4em;background-color: white;}#sk-container-id-5 div.sk-label label {font-family: monospace;font-weight: bold;display: inline-block;line-height: 1.2em;}#sk-container-id-5 div.sk-label-container {text-align: center;}#sk-container-id-5 div.sk-container {/* jupyter's `normalize.less` sets `[hidden] { display: none; }` but bootstrap.min.css set `[hidden] { display: none !important; }` so we also need the `!important` here to be able to override the default hidden behavior on the sphinx rendered scikit-learn.org. See: https://github.com/scikit-learn/scikit-learn/issues/21755 */display: inline-block !important;position: relative;}#sk-container-id-5 div.sk-text-repr-fallback {display: none;}</style><div id=\"sk-container-id-5\" class=\"sk-top-container\"><div class=\"sk-text-repr-fallback\"><pre>RandomForestRegressor(max_depth=20, n_estimators=10, n_jobs=-1, random_state=1)</pre><b>In a Jupyter environment, please rerun this cell to show the HTML representation or trust the notebook. <br />On GitHub, the HTML representation is unable to render, please try loading this page with nbviewer.org.</b></div><div class=\"sk-container\" hidden><div class=\"sk-item\"><div class=\"sk-estimator sk-toggleable\"><input class=\"sk-toggleable__control sk-hidden--visually\" id=\"sk-estimator-id-5\" type=\"checkbox\" checked><label for=\"sk-estimator-id-5\" class=\"sk-toggleable__label sk-toggleable__label-arrow\">RandomForestRegressor</label><div class=\"sk-toggleable__content\"><pre>RandomForestRegressor(max_depth=20, n_estimators=10, n_jobs=-1, random_state=1)</pre></div></div></div></div></div>"
            ],
            "text/plain": [
              "RandomForestRegressor(max_depth=20, n_estimators=10, n_jobs=-1, random_state=1)"
            ]
          },
          "execution_count": 27,
          "metadata": {},
          "output_type": "execute_result"
        }
      ],
      "source": [
        "#@ TRAINING THE RANDOM FOREST MODEL:\n",
        "rf = RandomForestRegressor(n_estimators=10, max_depth=20, random_state=1, n_jobs=-1)\n",
        "rf.fit(X_train, y_train)\n"
      ]
    },
    {
      "cell_type": "code",
      "execution_count": 28,
      "metadata": {},
      "outputs": [
        {
          "data": {
            "text/plain": [
              "array([1.69573183e-02, 3.30938997e-02, 1.01333971e-01, 9.62649876e-02,\n",
              "       3.62912907e-01, 3.00723750e-03, 3.10900842e-01, 3.56806263e-04,\n",
              "       4.48661972e-04, 4.22762446e-03, 3.09180197e-02, 1.90412562e-02,\n",
              "       2.05364687e-02])"
            ]
          },
          "execution_count": 28,
          "metadata": {},
          "output_type": "execute_result"
        }
      ],
      "source": [
        "rf.feature_importances_"
      ]
    },
    {
      "cell_type": "code",
      "execution_count": 29,
      "metadata": {},
      "outputs": [
        {
          "data": {
            "text/plain": [
              "<AxesSubplot:>"
            ]
          },
          "execution_count": 29,
          "metadata": {},
          "output_type": "execute_result"
        },
        {
          "data": {
            "image/png": "[encoded data removed]",
            "text/plain": [
              "<Figure size 640x480 with 1 Axes>"
            ]
          },
          "metadata": {},
          "output_type": "display_data"
        }
      ],
      "source": [
        "sns.barplot(y=list(dv.get_feature_names_out()), x=rf.feature_importances_)"
      ]
    },
    {
      "cell_type": "markdown",
      "metadata": {
        "id": "kSCqlx9jye1s"
      },
      "source": [
        "- What's the most important feature?\n",
        "\n",
        "- Answer: median_income"
      ]
    },
    {
      "cell_type": "markdown",
      "metadata": {
        "id": "K5KEdiTMzPaI"
      },
      "source": [
        "**Question 6**\n",
        "\n",
        "Now let's train an XGBoost model! For this question, we'll tune the eta parameter:\n",
        "\n",
        "- Install XGBoost.\n",
        "- Create DMatrix for train and validation\n",
        "- Create a watchlist\n",
        "- Train a model with these parameters for 100 rounds:\n",
        "\n",
        "```\n",
        "xgb_params = {  \n",
        "    'eta': 0.3,  \n",
        "    'max_depth': 6,  \n",
        "    'min_child_weight': 1,  \n",
        "\n",
        "    'objective': 'reg:squarederror',\n",
        "    'nthread': 8,\n",
        "\n",
        "    'seed': 1,\n",
        "    'verbosity': 1,\n",
        "}\n",
        "```\n",
        "\n"
      ]
    },
    {
      "cell_type": "code",
      "execution_count": 30,
      "metadata": {
        "id": "TUP0uoL5yZTc"
      },
      "outputs": [],
      "source": [
        "#@ CREATING THE DMARTIX:\n",
        "features = dv.feature_names_\n",
        "\n",
        "regex = re.compile(r\"<\", re.IGNORECASE)\n",
        "features = [regex.sub(\"_\", col) if any(x in str(col) for x in set(('[', ']', '<'))) else col for col in features]\n",
        "\n",
        "dtrain = xgb.DMatrix(X_train, label=y_train, feature_names=features)\n",
        "dval = xgb.DMatrix(X_val, label=y_val, feature_names=features)"
      ]
    },
    {
      "cell_type": "code",
      "execution_count": 49,
      "metadata": {
        "id": "lRRzLznP-Z-Q"
      },
      "outputs": [
        {
          "name": "stdout",
          "output_type": "stream",
          "text": [
            "[0]\ttrain-rmse:11.48634\tval-rmse:11.49225\n",
            "[5]\ttrain-rmse:10.92424\tval-rmse:10.93003\n",
            "[10]\ttrain-rmse:10.38969\tval-rmse:10.39532\n",
            "[15]\ttrain-rmse:9.88136\tval-rmse:9.88695\n",
            "[20]\ttrain-rmse:9.39796\tval-rmse:9.40346\n",
            "[25]\ttrain-rmse:8.93827\tval-rmse:8.94370\n",
            "[30]\ttrain-rmse:8.50110\tval-rmse:8.50645\n",
            "[35]\ttrain-rmse:8.08539\tval-rmse:8.09064\n",
            "[40]\ttrain-rmse:7.69008\tval-rmse:7.69524\n",
            "[45]\ttrain-rmse:7.31418\tval-rmse:7.31924\n",
            "[50]\ttrain-rmse:6.95672\tval-rmse:6.96171\n",
            "[55]\ttrain-rmse:6.61681\tval-rmse:6.62173\n",
            "[60]\ttrain-rmse:6.29360\tval-rmse:6.29841\n",
            "[65]\ttrain-rmse:5.98625\tval-rmse:5.99094\n",
            "[70]\ttrain-rmse:5.69400\tval-rmse:5.69854\n",
            "[75]\ttrain-rmse:5.41611\tval-rmse:5.42053\n",
            "[80]\ttrain-rmse:5.15187\tval-rmse:5.15621\n",
            "[85]\ttrain-rmse:4.90062\tval-rmse:4.90486\n",
            "[90]\ttrain-rmse:4.66171\tval-rmse:4.66589\n",
            "[95]\ttrain-rmse:4.43456\tval-rmse:4.43868\n",
            "[99]\ttrain-rmse:4.26092\tval-rmse:4.26496\n",
            "[0]\ttrain-rmse:10.44372\tval-rmse:10.44938\n",
            "[5]\ttrain-rmse:6.17513\tval-rmse:6.17987\n",
            "[10]\ttrain-rmse:3.65741\tval-rmse:3.66135\n",
            "[15]\ttrain-rmse:2.17500\tval-rmse:2.17928\n",
            "[20]\ttrain-rmse:1.30499\tval-rmse:1.31054\n",
            "[25]\ttrain-rmse:0.79933\tval-rmse:0.80657\n",
            "[30]\ttrain-rmse:0.51144\tval-rmse:0.52189\n",
            "[35]\ttrain-rmse:0.35700\tval-rmse:0.37264\n",
            "[40]\ttrain-rmse:0.27984\tval-rmse:0.30053\n",
            "[45]\ttrain-rmse:0.24350\tval-rmse:0.26829\n",
            "[50]\ttrain-rmse:0.22614\tval-rmse:0.25334\n",
            "[55]\ttrain-rmse:0.21695\tval-rmse:0.24657\n",
            "[60]\ttrain-rmse:0.21035\tval-rmse:0.24189\n",
            "[65]\ttrain-rmse:0.20579\tval-rmse:0.23943\n",
            "[70]\ttrain-rmse:0.20116\tval-rmse:0.23684\n",
            "[75]\ttrain-rmse:0.19680\tval-rmse:0.23507\n",
            "[80]\ttrain-rmse:0.19384\tval-rmse:0.23398\n",
            "[85]\ttrain-rmse:0.19085\tval-rmse:0.23275\n",
            "[90]\ttrain-rmse:0.18794\tval-rmse:0.23206\n",
            "[95]\ttrain-rmse:0.18541\tval-rmse:0.23106\n",
            "[99]\ttrain-rmse:0.18329\tval-rmse:0.23054\n",
            "[0]\ttrain-rmse:8.12733\tval-rmse:8.13245\n",
            "[5]\ttrain-rmse:1.40218\tval-rmse:1.40741\n",
            "[10]\ttrain-rmse:0.34481\tval-rmse:0.35782\n",
            "[15]\ttrain-rmse:0.23555\tval-rmse:0.26044\n",
            "[20]\ttrain-rmse:0.21580\tval-rmse:0.24624\n",
            "[25]\ttrain-rmse:0.20395\tval-rmse:0.24099\n",
            "[30]\ttrain-rmse:0.19440\tval-rmse:0.23741\n",
            "[35]\ttrain-rmse:0.18637\tval-rmse:0.23562\n",
            "[40]\ttrain-rmse:0.17983\tval-rmse:0.23419\n",
            "[45]\ttrain-rmse:0.17468\tval-rmse:0.23279\n",
            "[50]\ttrain-rmse:0.16934\tval-rmse:0.23097\n",
            "[55]\ttrain-rmse:0.16546\tval-rmse:0.23039\n",
            "[60]\ttrain-rmse:0.16177\tval-rmse:0.22950\n",
            "[65]\ttrain-rmse:0.15762\tval-rmse:0.22857\n",
            "[70]\ttrain-rmse:0.15323\tval-rmse:0.22787\n",
            "[75]\ttrain-rmse:0.15010\tval-rmse:0.22755\n",
            "[80]\ttrain-rmse:0.14564\tval-rmse:0.22611\n",
            "[85]\ttrain-rmse:0.14166\tval-rmse:0.22579\n",
            "[90]\ttrain-rmse:0.13892\tval-rmse:0.22628\n",
            "[95]\ttrain-rmse:0.13553\tval-rmse:0.22630\n",
            "[99]\ttrain-rmse:0.13299\tval-rmse:0.22610\n"
          ]
        }
      ],
      "source": [
        "xgb_scores = {}\n",
        "columns = ['iter', 'train_auc', 'val_auc']\n",
        "watchlist = [(dtrain, 'train'), (dval, 'val')]\n",
        "\n",
        "for eta in [0.01, 0.1, 0.3]:\n",
        "    xgb_params = {  \n",
        "        'eta': eta,  \n",
        "        'max_depth': 6,  \n",
        "        'min_child_weight': 1,  \n",
        "        'objective': 'reg:squarederror',\n",
        "        'nthread': 8,\n",
        "        'seed': 1,\n",
        "        'verbosity': 1,\n",
        "    }\n",
        "    evals_result = {}\n",
        "    model = xgb.train(\n",
        "        xgb_params,\n",
        "        dtrain,\n",
        "        num_boost_round=100,\n",
        "        verbose_eval=5,\n",
        "        evals=watchlist,\n",
        "        evals_result=evals_result,\n",
        "    )\n",
        "    train_aucs = list(evals_result['train'].values())[0]\n",
        "    val_aucs = list(evals_result['val'].values())[0]\n",
        "\n",
        "    df_scores = pd.DataFrame(\n",
        "        list(zip(\n",
        "            range(1, len(train_aucs)),\n",
        "            train_aucs,\n",
        "            val_aucs\n",
        "        )), columns=columns)\n",
        "    key = f\"eta={xgb_params['eta']}\"\n",
        "    xgb_scores[key]=df_scores\n",
        "    "
      ]
    },
    {
      "cell_type": "code",
      "execution_count": 50,
      "metadata": {},
      "outputs": [
        {
          "data": {
            "text/plain": [
              "dict_keys(['eta=0.01', 'eta=0.1', 'eta=0.3'])"
            ]
          },
          "execution_count": 50,
          "metadata": {},
          "output_type": "execute_result"
        }
      ],
      "source": [
        "xgb_scores.keys()"
      ]
    },
    {
      "cell_type": "code",
      "execution_count": 52,
      "metadata": {},
      "outputs": [
        {
          "data": {
            "text/plain": [
              "<matplotlib.legend.Legend at 0x253c6fb9ed0>"
            ]
          },
          "execution_count": 52,
          "metadata": {},
          "output_type": "execute_result"
        },
        {
          "data": {
            "image/png": "[encoded data removed]",
            "text/plain": [
              "<Figure size 640x480 with 1 Axes>"
            ]
          },
          "metadata": {},
          "output_type": "display_data"
        }
      ],
      "source": [
        "for key, df_score in xgb_scores.items():\n",
        "    plt.plot(df_score.iter, df_score.val_auc, label=key)\n",
        "plt.legend()"
      ]
    },
    {
      "cell_type": "markdown",
      "metadata": {
        "id": "3RmcQ1BQ64X-"
      },
      "source": [
        "- Now, change eta first to 0.1 and then to 0.01."
      ]
    },
    {
      "cell_type": "markdown",
      "metadata": {
        "id": "Yl6Xn6Zb76iH"
      },
      "source": [
        "- Which eta leads to the best RMSE score on the validation dataset?\n",
        "\n",
        "- Answer: 0.3"
      ]
    }
  ],
  "metadata": {
    "colab": {
      "provenance": []
    },
    "kernelspec": {
      "display_name": "Python 3.10.4 ('ml')",
      "language": "python",
      "name": "python3"
    },
    "language_info": {
      "codemirror_mode": {
        "name": "ipython",
        "version": 3
      },
      "file_extension": ".py",
      "mimetype": "text/x-python",
      "name": "python",
      "nbconvert_exporter": "python",
      "pygments_lexer": "ipython3",
      "version": "3.10.4"
    },
    "vscode": {
      "interpreter": {
        "hash": "f34c302878a9f77988ffb1942d2a03c20ef90dab7a91eb71661b248df60e0afb"
      }
    }
  },
  "nbformat": 4,
  "nbformat_minor": 0
}
