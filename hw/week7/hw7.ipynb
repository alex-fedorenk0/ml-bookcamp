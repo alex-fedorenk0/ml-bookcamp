{
 "cells": [
  {
   "cell_type": "markdown",
   "metadata": {},
   "source": [
    "#### Question 1"
   ]
  },
  {
   "cell_type": "code",
   "execution_count": 1,
   "metadata": {},
   "outputs": [],
   "source": [
    "import bentoml"
   ]
  },
  {
   "cell_type": "code",
   "execution_count": 2,
   "metadata": {},
   "outputs": [
    {
     "data": {
      "text/plain": [
       "'1.0.7'"
      ]
     },
     "execution_count": 2,
     "metadata": {},
     "output_type": "execute_result"
    }
   ],
   "source": [
    "bentoml.__version__"
   ]
  },
  {
   "cell_type": "markdown",
   "metadata": {},
   "source": [
    "#### Question 2"
   ]
  },
  {
   "cell_type": "code",
   "execution_count": 1,
   "metadata": {},
   "outputs": [
    {
     "name": "stdout",
     "output_type": "stream",
     "text": [
      " Tag                          Module           Size        Creation Time       \n",
      " credit_risk_model:ddxq4mcr…  bentoml.xgboost  197.77 KiB  2022-10-21 17:24:39 \n",
      " credit_risk_rf_model:bhwa4…  bentoml.sklearn  5.53 MiB    2022-10-20 16:42:28 \n",
      " credit_risk_model:ml3trl2q…  bentoml.xgboost  197.77 KiB  2022-10-20 16:30:38 \n",
      " mlzoomcamp_homework:jsi67f…  bentoml.sklearn  5.82 KiB    2022-10-14 17:48:43 \n",
      " mlzoomcamp_homework:qtzdz3…  bentoml.sklearn  5.79 KiB    2022-10-13 23:42:14 \n"
     ]
    }
   ],
   "source": [
    "!bentoml models list\n"
   ]
  },
  {
   "cell_type": "markdown",
   "metadata": {},
   "source": [
    "credit_risk_model size is 197.77 KiB"
   ]
  },
  {
   "cell_type": "markdown",
   "metadata": {},
   "source": [
    "#### Question 3"
   ]
  },
  {
   "cell_type": "code",
   "execution_count": null,
   "metadata": {},
   "outputs": [],
   "source": [
    "from pydantic import BaseModel\n",
    "\n",
    "class UserProfile(BaseModel):\n",
    "    name: str\n",
    "    age: int\n",
    "    country: str\n",
    "    rating: float"
   ]
  },
  {
   "cell_type": "markdown",
   "metadata": {},
   "source": [
    "#### Question 4"
   ]
  },
  {
   "cell_type": "code",
   "execution_count": null,
   "metadata": {},
   "outputs": [],
   "source": [
    "!curl -O https://s3.us-west-2.amazonaws.com/bentoml.com/mlzoomcamp/coolmodel.bentomodel\n",
    "!bentoml models import coolmodel.bentomodel"
   ]
  },
  {
   "cell_type": "code",
   "execution_count": 2,
   "metadata": {},
   "outputs": [
    {
     "name": "stdout",
     "output_type": "stream",
     "text": [
      " Tag                          Module           Size        Creation Time       \n",
      " credit_risk_model:ddxq4mcr…  bentoml.xgboost  197.77 KiB  2022-10-21 17:24:39 \n",
      " credit_risk_rf_model:bhwa4…  bentoml.sklearn  5.53 MiB    2022-10-20 16:42:28 \n",
      " credit_risk_model:ml3trl2q…  bentoml.xgboost  197.77 KiB  2022-10-20 16:30:38 \n",
      " mlzoomcamp_homework:jsi67f…  bentoml.sklearn  5.82 KiB    2022-10-14 17:48:43 \n",
      " mlzoomcamp_homework:qtzdz3…  bentoml.sklearn  5.79 KiB    2022-10-13 23:42:14 \n"
     ]
    }
   ],
   "source": [
    "!bentoml models list"
   ]
  },
  {
   "cell_type": "code",
   "execution_count": 3,
   "metadata": {},
   "outputs": [
    {
     "name": "stdout",
     "output_type": "stream",
     "text": [
      "\u001b[0mname\u001b[0m\u001b[1;33m:\u001b[0m \u001b[0mmlzoomcamp_homework\u001b[0m\u001b[1;33m\n",
      "\u001b[0m\u001b[0mversion\u001b[0m\u001b[1;33m:\u001b[0m \u001b[0mqtzdz3slg6mwwdu5\u001b[0m\u001b[1;33m\n",
      "\u001b[0m\u001b[0mmodule\u001b[0m\u001b[1;33m:\u001b[0m \u001b[0mbentoml\u001b[0m\u001b[1;33m.\u001b[0m\u001b[0msklearn\u001b[0m\u001b[1;33m\n",
      "\u001b[0m\u001b[0mlabels\u001b[0m\u001b[1;33m:\u001b[0m \u001b[1;33m{\u001b[0m\u001b[1;33m}\u001b[0m\u001b[1;33m\n",
      "\u001b[0m\u001b[0moptions\u001b[0m\u001b[1;33m:\u001b[0m \u001b[1;33m{\u001b[0m\u001b[1;33m}\u001b[0m\u001b[1;33m\n",
      "\u001b[0m\u001b[0mmetadata\u001b[0m\u001b[1;33m:\u001b[0m \u001b[1;33m{\u001b[0m\u001b[1;33m}\u001b[0m\u001b[1;33m\n",
      "\u001b[0m\u001b[0mcontext\u001b[0m\u001b[1;33m:\u001b[0m\u001b[1;33m\n",
      "\u001b[0m  \u001b[0mframework_name\u001b[0m\u001b[1;33m:\u001b[0m \u001b[0msklearn\u001b[0m\u001b[1;33m\n",
      "\u001b[0m  \u001b[0mframework_versions\u001b[0m\u001b[1;33m:\u001b[0m\u001b[1;33m\n",
      "\u001b[0m    \u001b[0mscikit\u001b[0m\u001b[1;33m-\u001b[0m\u001b[0mlearn\u001b[0m\u001b[1;33m:\u001b[0m \u001b[1;36m1.1\u001b[0m\u001b[1;36m.1\u001b[0m\u001b[1;33m\n",
      "\u001b[0m  \u001b[0mbentoml_version\u001b[0m\u001b[1;33m:\u001b[0m \u001b[1;36m1.0\u001b[0m\u001b[1;36m.7\u001b[0m\u001b[1;33m\n",
      "\u001b[0m  \u001b[0mpython_version\u001b[0m\u001b[1;33m:\u001b[0m \u001b[1;36m3.9\u001b[0m\u001b[1;36m.12\u001b[0m\u001b[1;33m\n",
      "\u001b[0m\u001b[0msignatures\u001b[0m\u001b[1;33m:\u001b[0m\u001b[1;33m\n",
      "\u001b[0m  \u001b[0mpredict\u001b[0m\u001b[1;33m:\u001b[0m\u001b[1;33m\n",
      "\u001b[0m    \u001b[0mbatchable\u001b[0m\u001b[1;33m:\u001b[0m \u001b[0mfalse\u001b[0m\u001b[1;33m\n",
      "\u001b[0m\u001b[0mapi_version\u001b[0m\u001b[1;33m:\u001b[0m \u001b[0mv1\u001b[0m\u001b[1;33m\n",
      "\u001b[0m\u001b[0mcreation_time\u001b[0m\u001b[1;33m:\u001b[0m \u001b[1;34m'2022-10-13T20:42:14.411084+00:00'\u001b[0m\u001b[1;33m\u001b[0m\u001b[1;33m\u001b[0m\u001b[0m\n"
     ]
    }
   ],
   "source": [
    "%pycat C:\\Users\\Alex\\bentoml\\models\\mlzoomcamp_homework\\qtzdz3slg6mwwdu5\\model.yaml"
   ]
  },
  {
   "cell_type": "markdown",
   "metadata": {},
   "source": [
    "#### Question 5\n",
    "answer: 1"
   ]
  },
  {
   "cell_type": "code",
   "execution_count": 2,
   "metadata": {},
   "outputs": [],
   "source": [
    "import requests\n",
    "\n",
    "url = 'http://localhost:3000/classify'"
   ]
  },
  {
   "cell_type": "code",
   "execution_count": 7,
   "metadata": {},
   "outputs": [
    {
     "data": {
      "text/plain": [
       "{'prediction': [1]}"
      ]
     },
     "execution_count": 7,
     "metadata": {},
     "output_type": "execute_result"
    }
   ],
   "source": [
    "requests.post(url, data='[[6.4,3.5,4.5,1.2]]').json()"
   ]
  },
  {
   "cell_type": "markdown",
   "metadata": {},
   "source": [
    "#### Question 6"
   ]
  },
  {
   "cell_type": "markdown",
   "metadata": {},
   "source": []
  },
  {
   "cell_type": "code",
   "execution_count": null,
   "metadata": {},
   "outputs": [],
   "source": []
  }
 ],
 "metadata": {
  "kernelspec": {
   "display_name": "Python 3.10.4 ('ml')",
   "language": "python",
   "name": "python3"
  },
  "language_info": {
   "codemirror_mode": {
    "name": "ipython",
    "version": 3
   },
   "file_extension": ".py",
   "mimetype": "text/x-python",
   "name": "python",
   "nbconvert_exporter": "python",
   "pygments_lexer": "ipython3",
   "version": "3.10.4"
  },
  "orig_nbformat": 4,
  "vscode": {
   "interpreter": {
    "hash": "f34c302878a9f77988ffb1942d2a03c20ef90dab7a91eb71661b248df60e0afb"
   }
  }
 },
 "nbformat": 4,
 "nbformat_minor": 2
}
