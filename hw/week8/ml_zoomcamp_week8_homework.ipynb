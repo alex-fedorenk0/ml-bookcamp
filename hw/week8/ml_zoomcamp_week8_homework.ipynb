{
  "nbformat": 4,
  "nbformat_minor": 0,
  "metadata": {
    "colab": {
      "provenance": [],
      "authorship_tag": "ABX9TyM/rB4PkUlS2df0BDMRSGtX",
      "include_colab_link": true
    },
    "kernelspec": {
      "name": "python3",
      "display_name": "Python 3"
    },
    "language_info": {
      "name": "python"
    },
    "accelerator": "GPU",
    "gpuClass": "standard"
  },
  "cells": [
    {
      "cell_type": "markdown",
      "metadata": {
        "id": "view-in-github",
        "colab_type": "text"
      },
      "source": [
        "<a href=\"https://colab.research.google.com/github/alex-fedorenk0/ml-zoomcamp/blob/main/hw/week8/ml_zoomcamp_week8_homework.ipynb\" target=\"_parent\"><img src=\"https://colab.research.google.com/assets/colab-badge.svg\" alt=\"Open In Colab\"/></a>"
      ]
    },
    {
      "cell_type": "code",
      "execution_count": null,
      "metadata": {
        "id": "NQR7j4y5VCVu"
      },
      "outputs": [],
      "source": [
        "!wget https://github.com/alexeygrigorev/dino-or-dragon/releases/download/data/dino-dragon.zip\n",
        "!unzip dino-dragon.zip -q"
      ]
    },
    {
      "cell_type": "code",
      "source": [
        "import numpy as np\n",
        "import matplotlib.pyplot as plt\n",
        "\n",
        "import tensorflow as tf\n",
        "from tensorflow import keras\n",
        "from tensorflow.keras.preprocessing.image import load_img\n",
        "from tensorflow.keras.applications.xception import Xception, preprocess_input, decode_predictions\n",
        "from tensorflow.keras.preprocessing.image import ImageDataGenerator\n"
      ],
      "metadata": {
        "id": "_jE-BhisWOvX"
      },
      "execution_count": 2,
      "outputs": []
    },
    {
      "cell_type": "code",
      "source": [
        "model = tf.keras.Sequential()\n",
        "\n",
        "model.add(keras.Input(shape=(150, 150, 3)))\n",
        "model.add(keras.layers.Conv2D(\n",
        "    filters=32,\n",
        "    kernel_size=(3,3),\n",
        "    activation='relu',\n",
        "))\n",
        "model.add(keras.layers.MaxPooling2D(pool_size=(2,2)))\n",
        "model.add(keras.layers.Flatten())\n",
        "model.add(keras.layers.Dense(64, activation='relu',))\n",
        "model.add(keras.layers.Dense(1, activation='sigmoid'))\n",
        "\n",
        "optimizer = keras.optimizers.SGD(learning_rate=0.002, momentum=0.8)\n",
        "loss = keras.losses.BinaryCrossentropy()"
      ],
      "metadata": {
        "id": "n3uk6kfLfuUW"
      },
      "execution_count": 5,
      "outputs": []
    },
    {
      "cell_type": "markdown",
      "source": [
        "*Question 1*: loss function for binary classification is **binary crossentropy**"
      ],
      "metadata": {
        "id": "qwyo3kGrjKQu"
      }
    },
    {
      "cell_type": "code",
      "source": [
        "model.compile(optimizer=optimizer, loss=loss, metrics=['accuracy'])"
      ],
      "metadata": {
        "id": "F_m9D6wqi9Rw"
      },
      "execution_count": 6,
      "outputs": []
    },
    {
      "cell_type": "code",
      "source": [
        "model.summary()"
      ],
      "metadata": {
        "colab": {
          "base_uri": "https://localhost:8080/"
        },
        "id": "iOZHsfOMjGI2",
        "outputId": "e21d06b9-af6a-4d19-cb07-fad950ef1e3a"
      },
      "execution_count": 8,
      "outputs": [
        {
          "output_type": "stream",
          "name": "stdout",
          "text": [
            "Model: \"sequential_1\"\n",
            "_________________________________________________________________\n",
            " Layer (type)                Output Shape              Param #   \n",
            "=================================================================\n",
            " conv2d_1 (Conv2D)           (None, 148, 148, 32)      896       \n",
            "                                                                 \n",
            " max_pooling2d_1 (MaxPooling  (None, 74, 74, 32)       0         \n",
            " 2D)                                                             \n",
            "                                                                 \n",
            " flatten_1 (Flatten)         (None, 175232)            0         \n",
            "                                                                 \n",
            " dense_2 (Dense)             (None, 64)                11214912  \n",
            "                                                                 \n",
            " dense_3 (Dense)             (None, 1)                 65        \n",
            "                                                                 \n",
            "=================================================================\n",
            "Total params: 11,215,873\n",
            "Trainable params: 11,215,873\n",
            "Non-trainable params: 0\n",
            "_________________________________________________________________\n"
          ]
        }
      ]
    },
    {
      "cell_type": "markdown",
      "source": [
        "*Question 2*: total number of parameters is **11,215,873**"
      ],
      "metadata": {
        "id": "NmfI7pGFjkvo"
      }
    },
    {
      "cell_type": "code",
      "source": [
        "train_gen = ImageDataGenerator(rescale=1./255)\n",
        "\n",
        "train_ds = train_gen.flow_from_directory(\n",
        "    './train',\n",
        "     target_size=(150, 150),\n",
        "     batch_size=20,\n",
        "     shuffle=True,\n",
        "     class_mode='binary',\n",
        ")\n",
        "\n",
        "test_gen = ImageDataGenerator(rescale=1./255)\n",
        "\n",
        "test_ds = test_gen.flow_from_directory(\n",
        "    './test',\n",
        "     target_size=(150, 150),\n",
        "     batch_size=20,\n",
        "     shuffle=True,\n",
        "     class_mode='binary',\n",
        ")"
      ],
      "metadata": {
        "colab": {
          "base_uri": "https://localhost:8080/"
        },
        "id": "McyfjHz2jfIN",
        "outputId": "17710dae-3890-4cda-9939-c893c9eda7aa"
      },
      "execution_count": 9,
      "outputs": [
        {
          "output_type": "stream",
          "name": "stdout",
          "text": [
            "Found 1594 images belonging to 2 classes.\n",
            "Found 394 images belonging to 2 classes.\n"
          ]
        }
      ]
    },
    {
      "cell_type": "code",
      "source": [
        "history = model.fit(\n",
        "    train_ds,\n",
        "    epochs=10,\n",
        "    validation_data=test_ds\n",
        ")"
      ],
      "metadata": {
        "colab": {
          "base_uri": "https://localhost:8080/"
        },
        "id": "Wj0BESHukc0-",
        "outputId": "2de63837-ef1e-4b5c-b531-5ecf0071bf39"
      },
      "execution_count": 13,
      "outputs": [
        {
          "output_type": "stream",
          "name": "stdout",
          "text": [
            "Epoch 1/10\n",
            "80/80 [==============================] - 9s 115ms/step - loss: 0.2964 - accuracy: 0.8852 - val_loss: 0.3891 - val_accuracy: 0.8249\n",
            "Epoch 2/10\n",
            "80/80 [==============================] - 9s 113ms/step - loss: 0.2701 - accuracy: 0.8921 - val_loss: 0.3343 - val_accuracy: 0.8477\n",
            "Epoch 3/10\n",
            "80/80 [==============================] - 10s 126ms/step - loss: 0.2333 - accuracy: 0.9141 - val_loss: 0.2821 - val_accuracy: 0.8807\n",
            "Epoch 4/10\n",
            "80/80 [==============================] - 9s 115ms/step - loss: 0.2034 - accuracy: 0.9279 - val_loss: 0.3020 - val_accuracy: 0.8731\n",
            "Epoch 5/10\n",
            "80/80 [==============================] - 9s 113ms/step - loss: 0.1863 - accuracy: 0.9316 - val_loss: 0.2783 - val_accuracy: 0.8782\n",
            "Epoch 6/10\n",
            "80/80 [==============================] - 9s 113ms/step - loss: 0.1462 - accuracy: 0.9611 - val_loss: 0.3256 - val_accuracy: 0.8579\n",
            "Epoch 7/10\n",
            "80/80 [==============================] - 9s 116ms/step - loss: 0.1284 - accuracy: 0.9668 - val_loss: 0.2687 - val_accuracy: 0.8909\n",
            "Epoch 8/10\n",
            "80/80 [==============================] - 9s 116ms/step - loss: 0.1043 - accuracy: 0.9718 - val_loss: 0.2648 - val_accuracy: 0.8807\n",
            "Epoch 9/10\n",
            "80/80 [==============================] - 9s 115ms/step - loss: 0.0863 - accuracy: 0.9812 - val_loss: 0.2669 - val_accuracy: 0.8883\n",
            "Epoch 10/10\n",
            "80/80 [==============================] - 10s 128ms/step - loss: 0.0691 - accuracy: 0.9881 - val_loss: 0.2683 - val_accuracy: 0.8832\n"
          ]
        }
      ]
    },
    {
      "cell_type": "code",
      "source": [
        "plt.plot(history.history['accuracy'])\n",
        "plt.plot(history.history['val_accuracy'])"
      ],
      "metadata": {
        "colab": {
          "base_uri": "https://localhost:8080/",
          "height": 282
        },
        "id": "oM9mtfNEldt_",
        "outputId": "0f9e1560-d23b-4165-cc4d-a618261e665a"
      },
      "execution_count": 16,
      "outputs": [
        {
          "output_type": "execute_result",
          "data": {
            "text/plain": [
              "[<matplotlib.lines.Line2D at 0x7f38c40ea390>]"
            ]
          },
          "metadata": {},
          "execution_count": 16
        },
        {
          "output_type": "display_data",
          "data": {
            "text/plain": [
              "<Figure size 432x288 with 1 Axes>"
            ],
            "image/png": "[encoded data removed]"
          },
          "metadata": {
            "needs_background": "light"
          }
        }
      ]
    },
    {
      "cell_type": "code",
      "source": [
        "np.median(history.history['accuracy'])"
      ],
      "metadata": {
        "colab": {
          "base_uri": "https://localhost:8080/"
        },
        "id": "6OyrdUymlU8G",
        "outputId": "128d148b-0f06-4b7e-a3bd-a96e7fe6e8d9"
      },
      "execution_count": 15,
      "outputs": [
        {
          "output_type": "execute_result",
          "data": {
            "text/plain": [
              "0.9463613629341125"
            ]
          },
          "metadata": {},
          "execution_count": 15
        }
      ]
    },
    {
      "cell_type": "markdown",
      "source": [
        "*Question 4*: median of training accuracy is **~0.9**"
      ],
      "metadata": {
        "id": "YMTHZ9X-lnAw"
      }
    },
    {
      "cell_type": "code",
      "source": [
        "np.std(history.history['loss'])"
      ],
      "metadata": {
        "colab": {
          "base_uri": "https://localhost:8080/"
        },
        "id": "C5lC2JX6lZEe",
        "outputId": "ab4fc0a4-226a-4487-a293-789948fd55b6"
      },
      "execution_count": 17,
      "outputs": [
        {
          "output_type": "execute_result",
          "data": {
            "text/plain": [
              "0.07425729518608969"
            ]
          },
          "metadata": {},
          "execution_count": 17
        }
      ]
    },
    {
      "cell_type": "markdown",
      "source": [
        "*Question 5*: std of training loss is **<0.1**"
      ],
      "metadata": {
        "id": "hLNkoYlsl4sA"
      }
    },
    {
      "cell_type": "code",
      "source": [
        "train_gen = ImageDataGenerator(\n",
        "    rescale=1./255,\n",
        "    rotation_range=40,\n",
        "    width_shift_range=0.2,\n",
        "    height_shift_range=0.2,\n",
        "    shear_range=0.2,\n",
        "    zoom_range=0.2,\n",
        "    horizontal_flip=True,\n",
        "    fill_mode='nearest',\n",
        "    )\n",
        "\n",
        "train_ds = train_gen.flow_from_directory(\n",
        "    './train',\n",
        "     target_size=(150, 150),\n",
        "     batch_size=20,\n",
        "     shuffle=True,\n",
        "     class_mode='binary',\n",
        ")"
      ],
      "metadata": {
        "colab": {
          "base_uri": "https://localhost:8080/"
        },
        "id": "uW-oi9mcl0q7",
        "outputId": "a482b96e-5edd-4b22-fac5-0ea6da1dcfe2"
      },
      "execution_count": 18,
      "outputs": [
        {
          "output_type": "stream",
          "name": "stdout",
          "text": [
            "Found 1594 images belonging to 2 classes.\n"
          ]
        }
      ]
    },
    {
      "cell_type": "code",
      "source": [
        "history_aug = model.fit(\n",
        "    train_ds,\n",
        "    epochs=10,\n",
        "    validation_data=test_ds\n",
        ")"
      ],
      "metadata": {
        "colab": {
          "base_uri": "https://localhost:8080/"
        },
        "id": "2qztKq0vm48H",
        "outputId": "07c57e1e-09d3-4af5-97ff-f1504bae5b95"
      },
      "execution_count": 19,
      "outputs": [
        {
          "output_type": "stream",
          "name": "stdout",
          "text": [
            "Epoch 1/10\n",
            "80/80 [==============================] - 16s 204ms/step - loss: 0.4654 - accuracy: 0.7829 - val_loss: 0.2560 - val_accuracy: 0.8934\n",
            "Epoch 2/10\n",
            "80/80 [==============================] - 17s 214ms/step - loss: 0.4112 - accuracy: 0.8168 - val_loss: 0.4883 - val_accuracy: 0.7766\n",
            "Epoch 3/10\n",
            "80/80 [==============================] - 16s 202ms/step - loss: 0.3980 - accuracy: 0.8250 - val_loss: 0.5022 - val_accuracy: 0.7563\n",
            "Epoch 4/10\n",
            "80/80 [==============================] - 16s 203ms/step - loss: 0.3716 - accuracy: 0.8312 - val_loss: 0.3448 - val_accuracy: 0.8401\n",
            "Epoch 5/10\n",
            "80/80 [==============================] - 19s 236ms/step - loss: 0.3663 - accuracy: 0.8469 - val_loss: 0.3795 - val_accuracy: 0.8274\n",
            "Epoch 6/10\n",
            "80/80 [==============================] - 17s 217ms/step - loss: 0.3366 - accuracy: 0.8695 - val_loss: 0.3278 - val_accuracy: 0.8426\n",
            "Epoch 7/10\n",
            "80/80 [==============================] - 22s 278ms/step - loss: 0.3559 - accuracy: 0.8457 - val_loss: 0.5134 - val_accuracy: 0.7868\n",
            "Epoch 8/10\n",
            "80/80 [==============================] - 19s 240ms/step - loss: 0.3637 - accuracy: 0.8331 - val_loss: 0.7315 - val_accuracy: 0.7335\n",
            "Epoch 9/10\n",
            "80/80 [==============================] - 19s 237ms/step - loss: 0.3468 - accuracy: 0.8469 - val_loss: 0.3922 - val_accuracy: 0.8173\n",
            "Epoch 10/10\n",
            "80/80 [==============================] - 16s 202ms/step - loss: 0.3254 - accuracy: 0.8639 - val_loss: 0.4858 - val_accuracy: 0.7970\n"
          ]
        }
      ]
    },
    {
      "cell_type": "code",
      "source": [
        "np.mean(history_aug.history['val_loss'])"
      ],
      "metadata": {
        "colab": {
          "base_uri": "https://localhost:8080/"
        },
        "id": "dUZSuxRpnVP-",
        "outputId": "af57fcac-1903-4173-b943-fdfa42d3859f"
      },
      "execution_count": 20,
      "outputs": [
        {
          "output_type": "execute_result",
          "data": {
            "text/plain": [
              "0.4421308100223541"
            ]
          },
          "metadata": {},
          "execution_count": 20
        }
      ]
    },
    {
      "cell_type": "markdown",
      "source": [
        "*Question 5*: "
      ],
      "metadata": {
        "id": "67kdLG4wnOLM"
      }
    },
    {
      "cell_type": "code",
      "source": [
        "np.mean(history_aug.history['val_accuracy'][5:])"
      ],
      "metadata": {
        "colab": {
          "base_uri": "https://localhost:8080/"
        },
        "id": "9-yAD7rHnNKF",
        "outputId": "ae156e2a-120b-408b-be96-cb57515a11bd"
      },
      "execution_count": 21,
      "outputs": [
        {
          "output_type": "execute_result",
          "data": {
            "text/plain": [
              "0.7954314827919007"
            ]
          },
          "metadata": {},
          "execution_count": 21
        }
      ]
    },
    {
      "cell_type": "markdown",
      "source": [
        "*Question 6:*"
      ],
      "metadata": {
        "id": "dShUdwSInQ9m"
      }
    },
    {
      "cell_type": "code",
      "source": [],
      "metadata": {
        "id": "V12e2gpGnTWc"
      },
      "execution_count": null,
      "outputs": []
    }
  ]
}